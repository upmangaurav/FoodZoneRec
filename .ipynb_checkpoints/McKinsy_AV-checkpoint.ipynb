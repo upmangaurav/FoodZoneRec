{
 "cells": [
  {
   "cell_type": "code",
   "execution_count": 20,
   "metadata": {},
   "outputs": [
    {
     "data": {
      "text/plain": [
       "['challenge_data.csv',\n",
       " 'sample_submission_J0OjXLi_DDt3uQN.csv',\n",
       " 'test.csv',\n",
       " 'test_yu5q2vi.zip',\n",
       " 'train.csv',\n",
       " 'train_mddNHeX.zip',\n",
       " '__MACOSX']"
      ]
     },
     "execution_count": 20,
     "metadata": {},
     "output_type": "execute_result"
    }
   ],
   "source": [
    "import csv\n",
    "import time\n",
    "import os\n",
    "import pandas as pd\n",
    "import numpy as np\n",
    "from sklearn.metrics import accuracy_score, f1_score\n",
    "from sklearn import svm\n",
    "from sklearn.svm import LinearSVC\n",
    "from sklearn.linear_model import SGDClassifier\n",
    "from sklearn.model_selection import train_test_split, cross_val_score\n",
    "from sklearn.metrics import precision_recall_curve\n",
    "from sklearn.ensemble import RandomForestClassifier\n",
    "from datetime import datetime\n",
    "\n",
    "os.chdir(\"/home/gu38/Common/Kaggle/McKinsky_AV\")\n",
    "os.listdir()"
   ]
  },
  {
   "cell_type": "code",
   "execution_count": 42,
   "metadata": {},
   "outputs": [],
   "source": [
    "'''\n",
    "Function to extract multi-valued Attributes from Business data\n",
    "'''\n",
    "def extract_binary_attributes(businesses):\n",
    "\n",
    "    # List of single-valued attributes\n",
    "    attributeLists = {}\n",
    "\n",
    "    #List of multi-valued(dict form) attributes\n",
    "    attributeDicts = {}\n",
    "\n",
    "    # print(\"Before \\n\", json.dumps(businesses[:1], indent=4))\n",
    "\n",
    "    #Generating a list of attribute values:\n",
    "    for entry in businesses:\n",
    "        for item in entry['attributes']:\n",
    "            param = \"attribute_\" + item\n",
    "            entry[param] = entry['attributes'][item]\n",
    "\n",
    "            if isinstance(entry[param], dict):\n",
    "                if param in attributeDicts:\n",
    "                    for var in entry[param]:\n",
    "                        if var not in attributeDicts[param]:\n",
    "                            attributeDicts[param][var] = entry[param][var]\n",
    "                else:\n",
    "                    attributeDicts[param] = entry[param]\n",
    "\n",
    "            else:\n",
    "                if param in attributeLists:\n",
    "                    if entry[param] not in attributeLists[param]:\n",
    "                        attributeLists[param].append(entry[param])\n",
    "                else:\n",
    "                    attributeLists[param] = [entry[param]]\n",
    "\n",
    "    #Converting the attribute lists into binary vectors\n",
    "    for entry in businesses:\n",
    "        for param in attributeLists:\n",
    "            if param in entry:\n",
    "                encodedEntry = []\n",
    "                \n",
    "                # Single valued alphanumerical attributes, will be converted to n-bit vectors with a bit on\n",
    "                for value in attributeLists[param]:\n",
    "                    if entry[param] == value:\n",
    "                        encodedEntry.append(1)\n",
    "                    else:\n",
    "                        encodedEntry.append(0)\n",
    "            else:\n",
    "                encodedEntry = [0] * len(attributeLists[param])\n",
    "            entry[param] = encodedEntry\n",
    "\n",
    "        for param in attributeDicts:\n",
    "            # Multi valued binary attributes, will be converted to n-bit vectors with possibly multiple bit on \n",
    "            if param in entry:\n",
    "                encodedEntry = []\n",
    "                # Checking whether the binary sub-attribute value is True\n",
    "                for value in attributeDicts[param]:\n",
    "                    if entry[param][value]:\n",
    "                        encodedEntry.append(1)\n",
    "                    else:\n",
    "                        encodedEntry.append(0)\n",
    "            else:\n",
    "                encodedEntry = [0] * len(attributeDicts[param])\n",
    "\n",
    "            entry[param] = encodedEntry\n",
    "\n",
    "        # At this stage we dont need the original attributes parameter        \n",
    "#         del entry['attributes']\n",
    "    return businesses"
   ]
  },
  {
   "cell_type": "code",
   "execution_count": 41,
   "metadata": {},
   "outputs": [
    {
     "name": "stdout",
     "output_type": "stream",
     "text": [
      "[['user_sequence', 'user_id', 'challenge_sequence', 'challenge'], ['4576_1', '4576', '1', 'CI23714']]\n"
     ]
    },
    {
     "data": {
      "text/plain": [
       "[['challenge_ID',\n",
       "  'programming_language',\n",
       "  'challenge_series_ID',\n",
       "  'total_submissions',\n",
       "  'publish_date',\n",
       "  'author_ID',\n",
       "  'author_gender',\n",
       "  'author_org_ID',\n",
       "  'category_id'],\n",
       " ['CI23478',\n",
       "  '2',\n",
       "  'SI2445',\n",
       "  '37',\n",
       "  '06-05-2006',\n",
       "  'AI563576',\n",
       "  'M',\n",
       "  'AOI100001',\n",
       "  '']]"
      ]
     },
     "execution_count": 41,
     "metadata": {},
     "output_type": "execute_result"
    }
   ],
   "source": [
    "userData = []\n",
    "challengeData = []\n",
    "with open('train.csv', 'r') as uf:\n",
    "    blah = csv.reader(uf, delimiter=',')\n",
    "    for row in blah:\n",
    "        userData.append(row)\n",
    "with open('challenge_data.csv', 'r') as cf:\n",
    "    blahblah = csv.reader(cf, delimiter=',')\n",
    "    for row in blahblah:\n",
    "        challengeData.append(row)\n",
    "\n",
    "print(userData[:2])\n",
    "challengeData[:2]"
   ]
  },
  {
   "cell_type": "code",
   "execution_count": 40,
   "metadata": {},
   "outputs": [
    {
     "data": {
      "text/plain": [
       "903917"
      ]
     },
     "execution_count": 40,
     "metadata": {},
     "output_type": "execute_result"
    }
   ],
   "source": [
    "len(challengeData)"
   ]
  },
  {
   "cell_type": "code",
   "execution_count": null,
   "metadata": {},
   "outputs": [],
   "source": []
  }
 ],
 "metadata": {
  "kernelspec": {
   "display_name": "Python 3",
   "language": "python",
   "name": "python3"
  },
  "language_info": {
   "codemirror_mode": {
    "name": "ipython",
    "version": 3
   },
   "file_extension": ".py",
   "mimetype": "text/x-python",
   "name": "python",
   "nbconvert_exporter": "python",
   "pygments_lexer": "ipython3",
   "version": "3.5.2"
  }
 },
 "nbformat": 4,
 "nbformat_minor": 2
}
