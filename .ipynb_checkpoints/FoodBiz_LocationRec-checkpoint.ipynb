{
 "cells": [
  {
   "cell_type": "code",
   "execution_count": 1,
   "metadata": {
    "ExecuteTime": {
     "end_time": "2018-04-18T14:02:22.456579Z",
     "start_time": "2018-04-18T14:02:21.909280Z"
    },
    "scrolled": true
   },
   "outputs": [
    {
     "data": {
      "text/plain": [
       "['attributeDictFile',\n",
       " 'attributeDicts.json',\n",
       " 'attributeLists.json',\n",
       " 'business.json',\n",
       " 'business.json.zip',\n",
       " 'checkin.json',\n",
       " 'checkin.json.zip',\n",
       " 'Dataset_Challenge_Dataset_Agreement.pdf',\n",
       " 'photos.json',\n",
       " 'postal_codes.csv',\n",
       " 'review.json',\n",
       " 'tip.json',\n",
       " 'user.json',\n",
       " 'Yelp_Dataset_Challenge_Round_11.pdf']"
      ]
     },
     "execution_count": 1,
     "metadata": {},
     "output_type": "execute_result"
    }
   ],
   "source": [
    "import json\n",
    "import time\n",
    "import os\n",
    "import pandas as pd\n",
    "import numpy as np\n",
    "from xgboost import XGBClassifier\n",
    "from sklearn.externals import joblib\n",
    "from sklearn.base import BaseEstimator, TransformerMixin\n",
    "from sklearn.ensemble import RandomForestClassifier\n",
    "from sklearn.pipeline import Pipeline, make_pipeline\n",
    "from sklearn import svm\n",
    "from sklearn.svm import LinearSVC\n",
    "from sklearn.linear_model import SGDClassifier\n",
    "from sklearn.model_selection import train_test_split, cross_val_score, train_test_split, GridSearchCV\n",
    "from sklearn.metrics import precision_recall_curve, accuracy_score, f1_score\n",
    "from sklearn.pipeline import make_pipeline\n",
    "from sklearn.multiclass import OneVsRestClassifier, OneVsOneClassifier\n",
    "from sklearn.multioutput import MultiOutputClassifier\n",
    "\n",
    "import warnings\n",
    "warnings.filterwarnings('ignore')\n",
    "from datetime import datetime\n",
    "os.chdir(\"/home/gu38/Common/DIVA/FinalProject/yelp/dataset/\")\n",
    "os.listdir()"
   ]
  },
  {
   "cell_type": "code",
   "execution_count": 2,
   "metadata": {
    "ExecuteTime": {
     "end_time": "2018-04-18T14:02:24.870354Z",
     "start_time": "2018-04-18T14:02:22.457991Z"
    }
   },
   "outputs": [],
   "source": [
    "'''\n",
    "Function to calculate Total check-ins in a week for a business\n",
    "'''\n",
    "checkins = {}\n",
    "checkin = {}\n",
    "with open('checkin.json', 'r') as f:\n",
    "    for line in f:\n",
    "        checkin = json.loads(line)\n",
    "        checkins[checkin['business_id']] = checkin['time']\n",
    "        \n",
    "def get_checkin_count(id):\n",
    "    count = 0\n",
    "    record = checkins[id]\n",
    "    for day in record:\n",
    "        for hour in record[day]:\n",
    "            count += record[day][hour]\n",
    "    return count"
   ]
  },
  {
   "cell_type": "code",
   "execution_count": 3,
   "metadata": {
    "ExecuteTime": {
     "end_time": "2018-04-18T14:02:24.906646Z",
     "start_time": "2018-04-18T14:02:24.871873Z"
    }
   },
   "outputs": [],
   "source": [
    "'''\n",
    "Function to extract multi-valued Attributes from Business data\n",
    "'''\n",
    "def extract_feature_lists(businesses):\n",
    "    # List of single-valued attributes\n",
    "    attributeLists = {}\n",
    "\n",
    "    #List of multi-valued(dict form) attributes\n",
    "    attributeDicts = {}\n",
    "\n",
    "    # print(\"Before \\n\", json.dumps(businesses[:1], indent=4))\n",
    "\n",
    "    #Generating a list of attribute values:\n",
    "    for entry in businesses:\n",
    "        for item in entry['attributes']:\n",
    "            param = \"attribute_\" + item\n",
    "            entry[param] = entry['attributes'][item]\n",
    "\n",
    "            if isinstance(entry[param], dict):\n",
    "                if param in attributeDicts:\n",
    "                    for var in entry[param]:\n",
    "                        if var not in attributeDicts[param]:\n",
    "                            attributeDicts[param][var] = entry[param][var]\n",
    "                else:\n",
    "                    attributeDicts[param] = entry[param]\n",
    "\n",
    "            else:\n",
    "                if param in attributeLists:\n",
    "                    if entry[param] not in attributeLists[param]:\n",
    "                        attributeLists[param].append(entry[param])\n",
    "                else:\n",
    "                    attributeLists[param] = [entry[param]]\n",
    "                    \n",
    "    return attributeLists, attributeDicts"
   ]
  },
  {
   "cell_type": "code",
   "execution_count": 4,
   "metadata": {
    "ExecuteTime": {
     "end_time": "2018-04-18T14:02:24.955210Z",
     "start_time": "2018-04-18T14:02:24.908391Z"
    },
    "scrolled": true
   },
   "outputs": [],
   "source": [
    "'''\n",
    "Function to convert business attributes to binary vectors\n",
    "'''\n",
    "def generate_binary_vectors(businesses, attributeListsFile, attributeDictsFile):\n",
    "    \n",
    "    with open(attributeListsFile, 'r') as f:\n",
    "        attributeLists = json.load(f)\n",
    "    with open(attributeDictsFile, 'r') as f:\n",
    "        attributeDicts = json.load(f)\n",
    "    \n",
    "    #Converting the attribute lists into binary vectors\n",
    "    for entry in businesses:\n",
    "        for param in attributeLists:\n",
    "            if param in entry:\n",
    "                encodedEntry = []\n",
    "                \n",
    "                # Single valued alphanumerical attributes, will be converted to n-bit vectors\n",
    "                # with a single bit as '1'\n",
    "                for value in attributeLists[param]:\n",
    "                    if entry[param] == value:\n",
    "                        encodedEntry.append(1)\n",
    "                    else:\n",
    "                        encodedEntry.append(0)\n",
    "            else:\n",
    "                encodedEntry = [0] * len(attributeLists[param])\n",
    "            entry[param] = encodedEntry\n",
    "\n",
    "        for param in attributeDicts:\n",
    "            # Multi valued binary attributes, will be converted to n-bit vectors \n",
    "            # with possibly multiple bits as '1' \n",
    "            if param in entry:\n",
    "                encodedEntry = []\n",
    "                # Checking whether the binary sub-attribute value is True\n",
    "                for value in attributeDicts[param]:\n",
    "                    if entry[param][value]:\n",
    "                        encodedEntry.append(1)\n",
    "                    else:\n",
    "                        encodedEntry.append(0)\n",
    "            else:\n",
    "                encodedEntry = [0] * len(attributeDicts[param])\n",
    "\n",
    "            entry[param] = encodedEntry\n",
    "\n",
    "        # At this stage we dont need the original attributes parameter        \n",
    "        del entry['attributes']\n",
    "\n",
    "    return businesses"
   ]
  },
  {
   "cell_type": "code",
   "execution_count": 105,
   "metadata": {
    "ExecuteTime": {
     "end_time": "2018-04-18T23:39:45.023694Z",
     "start_time": "2018-04-18T23:39:44.854259Z"
    },
    "scrolled": true
   },
   "outputs": [],
   "source": [
    "'''\n",
    "Function to retrieve business parameters:\n",
    "\n",
    "Usage: prepare_data < filename, city, Labelling parameter, No. of labels>\n",
    "'''\n",
    "def prepare_data(filename, cities, parameter, maxLabels):\n",
    "\n",
    "    businesses = []\n",
    "\n",
    "    with open(filename, 'r') as f:\n",
    "        \n",
    "        interesting_categories = ['Restaurants', 'Food', 'Nightlife', 'Bars', 'Active Life', 'Sandwiches',\n",
    "                                  'Fast Food', 'American (Traditional)', 'Pizza', 'Coffee & Tea', \n",
    "                                  'Hotels & Travel', 'Italian', 'Burgers', 'Breakfast & Brunch', \n",
    "                                  'Mexican', 'Chinese', 'Specialty Food', 'Bakeries', 'Cafes', \n",
    "                                  'Chicken Wings', 'Beer', 'Wine & Spirits', 'Steakhouses', \n",
    "                                  'Dance Clubs', 'Cocktail Bars', 'Pubs', 'Adult Entertainment']\n",
    "\n",
    "        interesting_params = ['is_open', 'stars', 'categories', parameter]\n",
    "        for line in f:\n",
    "            entry = json.loads(line)\n",
    "\n",
    "            # Filtering relevant businesses by city=Vegas and selected categories\n",
    "            if entry['city'] in cities and any( i in entry['categories'] for i in interesting_categories) \\\n",
    "            and entry[parameter] != '':\n",
    "                relevantEntry = {}\n",
    "                for item in interesting_params:\n",
    "                    if item in entry:\n",
    "                        if item == 'categories':\n",
    "                            cat = {}\n",
    "                            for category in interesting_categories:\n",
    "                                if category in entry[item]:\n",
    "                                    cat[category] = True\n",
    "                                else:\n",
    "                                    cat[category] = False\n",
    "                            entry['attributes'][item] = cat\n",
    "                        else:\n",
    "                            entry['attributes'][item] = entry[item]\n",
    "\n",
    "                relevantEntry['attributes'] = entry['attributes']\n",
    "\n",
    "                businesses.append(relevantEntry)\n",
    "        print(\"\\n\\n\\n\\nData with only useful records and attributes: \\n\",\n",
    "#               json.dumps(businesses[0], indent=4))\n",
    "              businesses[0])\n",
    "                \n",
    "        counter = {}\n",
    "        for item in businesses:\n",
    "            val = item['attributes'][parameter]\n",
    "            if val not in counter:\n",
    "                counter[val] = 1\n",
    "            else:\n",
    "                counter[val] += 1\n",
    "        sortedCounter = dict(sorted(counter.items(), key=lambda item: item[1], reverse = True)[:maxLabels])\n",
    "        \n",
    "        refinedBusinesses = []\n",
    "        for entry in businesses:\n",
    "            if entry['attributes'][parameter] in sortedCounter:\n",
    "                refinedBusinesses.append(entry)\n",
    "                \n",
    "        print(\"\\n\\nSize of the final Input Vector:\\n\", len(refinedBusinesses))\n",
    "        print(refinedBusinesses[:1])\n",
    "\n",
    "#         print(\"before \\n\", json.dumps(refinedBusinesses[:1], indent=4))\n",
    "        #\n",
    "        attributesAsLists, attributesAsDicts = extract_feature_lists(refinedBusinesses)\n",
    "        \n",
    "        with open('attributeLists.json', 'w') as f:\n",
    "            f.write(json.dumps(attributesAsLists))\n",
    "            \n",
    "        with open('attributeDicts.json', 'w') as f:\n",
    "            f.write(json.dumps(attributesAsDicts))\n",
    "        \n",
    "        businessVectors = generate_binary_vectors(refinedBusinesses, 'attributeLists.json', 'attributeDicts.json')\n",
    "        \n",
    "#         print(\"\\n\\nResultant input data with binary attributes:\\n\",json.dumps(businessVectors[0], indent=4))\n",
    "        print(\"\\n\\nResultant input data with binary attributes:\\n\",businessVectors[0])\n",
    "#         for cat in interesting_categories:\n",
    "#             print(\"OR category LIKE \" + \"'\" + cat + \"'\")\n",
    "        return businessVectors"
   ]
  },
  {
   "cell_type": "code",
   "execution_count": 6,
   "metadata": {
    "ExecuteTime": {
     "end_time": "2018-04-18T14:02:25.135651Z",
     "start_time": "2018-04-18T14:02:25.103241Z"
    }
   },
   "outputs": [],
   "source": [
    "'''\n",
    "Function to invert binarized features/Labels back to original text\n",
    "'''\n",
    "def custom_invert_transform(binVec, maxLabels):\n",
    "    \n",
    "    with open('attributeLists.json', 'w') as f:\n",
    "        f.write(json.dumps(attributesAsLists))\n",
    "    with open('attributeDicts.json', 'w') as f:\n",
    "        f.write(json.dumps(attributesAsDicts))\n",
    "        \n",
    "    origList = []\n",
    "    if param in attributesAsLists:\n",
    "        for item in binVec:\n",
    "            i = 0\n",
    "            "
   ]
  },
  {
   "cell_type": "code",
   "execution_count": 7,
   "metadata": {
    "ExecuteTime": {
     "end_time": "2018-04-18T14:02:25.168438Z",
     "start_time": "2018-04-18T14:02:25.136815Z"
    }
   },
   "outputs": [],
   "source": [
    "'''\n",
    "This function concatenates all the feature vectors for input and flattens the Label data\n",
    "'''\n",
    "def concat_bin_vectors(binVec, Multioutput):\n",
    "    outputConVec = []\n",
    "    outputLabelVec = []\n",
    "    for entry in binVec:\n",
    "        rowVec = []\n",
    "        for item in entry:\n",
    "            if item == 'attribute_postal_code':\n",
    "                if(not Multioutput):\n",
    "                    #Convert the list-attribute to a string and remove from binary feature vector\n",
    "                    outputLabelVec.append(''.join(map(str, entry[item])))\n",
    "                else:\n",
    "                    #Convert the list-attribute to a string and remove from binary feature vector\n",
    "                    outputLabelVec.append(entry[item])\n",
    "            else:\n",
    "                rowVec.extend(entry[item])\n",
    "        outputConVec.append(rowVec)\n",
    "    return outputConVec, outputLabelVec"
   ]
  },
  {
   "cell_type": "code",
   "execution_count": 9,
   "metadata": {
    "ExecuteTime": {
     "end_time": "2018-04-18T14:02:30.962898Z",
     "start_time": "2018-04-18T14:02:30.949189Z"
    },
    "scrolled": true
   },
   "outputs": [],
   "source": [
    "'''\n",
    "Custom function to calculate Mean Average Precision (MAP @ N) for test data\n",
    "i.e. Probability that actual zone falls into N recommended zones.\n",
    "\n",
    "Usage: map_n < trained_Classifier, x_test, y_test, N >\n",
    "'''\n",
    "def map_n(clf, test_data, true_labels, n):\n",
    "    \n",
    "    probs = clf.predict_proba(test_data)\n",
    "    best_n = np.argsort(probs, axis = 1)\n",
    "\n",
    "    i = 0\n",
    "    count = 0\n",
    "    for label in true_labels:\n",
    "        relevant_prediction_indices = best_n[i][-n:]\n",
    "        for j in range(n):\n",
    "            if clf.classes_[relevant_prediction_indices[j]] == label:\n",
    "                count += 1\n",
    "                break\n",
    "        i += 1\n",
    "    print(count)\n",
    "    return (count/true_labels.size)"
   ]
  },
  {
   "cell_type": "code",
   "execution_count": 114,
   "metadata": {
    "ExecuteTime": {
     "end_time": "2018-04-18T23:53:29.108349Z",
     "start_time": "2018-04-18T23:53:23.180538Z"
    },
    "scrolled": false
   },
   "outputs": [
    {
     "name": "stdout",
     "output_type": "stream",
     "text": [
      "\n",
      "\n",
      "\n",
      "\n",
      "Data with only useful records and attributes: \n",
      " {'attributes': {'RestaurantsAttire': 'casual', 'RestaurantsTableService': False, 'BikeParking': True, 'Alcohol': 'none', 'DriveThru': True, 'Ambience': {'classy': False, 'divey': False, 'casual': False, 'touristy': False, 'upscale': False, 'romantic': False, 'intimate': False, 'hipster': False, 'trendy': False}, 'BusinessAcceptsCreditCards': True, 'OutdoorSeating': False, 'RestaurantsTakeOut': True, 'NoiseLevel': 'loud', 'RestaurantsDelivery': False, 'postal_code': '85022', 'HasTV': True, 'RestaurantsReservations': False, 'RestaurantsGoodForGroups': True, 'Caters': False, 'RestaurantsPriceRange2': 1, 'WiFi': 'free', 'BusinessParking': {'lot': True, 'street': False, 'valet': False, 'validated': False, 'garage': False}, 'GoodForMeal': {'latenight': False, 'brunch': False, 'dinner': False, 'breakfast': True, 'dessert': False, 'lunch': True}, 'GoodForKids': True, 'stars': 1.0, 'is_open': 1, 'categories': {'Fast Food': True, 'Bakeries': False, 'Cocktail Bars': False, 'Pubs': False, 'Dance Clubs': False, 'Burgers': True, 'Hotels & Travel': False, 'Nightlife': False, 'Cafes': False, 'American (Traditional)': False, 'Chinese': False, 'Breakfast & Brunch': False, 'Mexican': False, 'Chicken Wings': False, 'Wine & Spirits': False, 'Steakhouses': False, 'Food': False, 'Specialty Food': False, 'Pizza': False, 'Sandwiches': False, 'Bars': False, 'Active Life': False, 'Restaurants': True, 'Coffee & Tea': False, 'Adult Entertainment': False, 'Beer': False, 'Italian': False}}}\n",
      "\n",
      "\n",
      "Size of the final Input Vector:\n",
      " 18146\n",
      "[{'attributes': {'RestaurantsAttire': 'casual', 'RestaurantsTableService': False, 'BikeParking': True, 'Alcohol': 'none', 'DriveThru': True, 'Ambience': {'classy': False, 'divey': False, 'casual': False, 'touristy': False, 'upscale': False, 'romantic': False, 'intimate': False, 'hipster': False, 'trendy': False}, 'BusinessAcceptsCreditCards': True, 'OutdoorSeating': False, 'RestaurantsTakeOut': True, 'NoiseLevel': 'loud', 'RestaurantsDelivery': False, 'postal_code': '85022', 'HasTV': True, 'RestaurantsReservations': False, 'RestaurantsGoodForGroups': True, 'Caters': False, 'RestaurantsPriceRange2': 1, 'WiFi': 'free', 'BusinessParking': {'lot': True, 'street': False, 'valet': False, 'validated': False, 'garage': False}, 'GoodForMeal': {'latenight': False, 'brunch': False, 'dinner': False, 'breakfast': True, 'dessert': False, 'lunch': True}, 'GoodForKids': True, 'stars': 1.0, 'is_open': 1, 'categories': {'Fast Food': True, 'Bakeries': False, 'Cocktail Bars': False, 'Pubs': False, 'Dance Clubs': False, 'Burgers': True, 'Hotels & Travel': False, 'Nightlife': False, 'Cafes': False, 'American (Traditional)': False, 'Chinese': False, 'Breakfast & Brunch': False, 'Mexican': False, 'Chicken Wings': False, 'Wine & Spirits': False, 'Steakhouses': False, 'Food': False, 'Specialty Food': False, 'Pizza': False, 'Sandwiches': False, 'Bars': False, 'Active Life': False, 'Restaurants': True, 'Coffee & Tea': False, 'Adult Entertainment': False, 'Beer': False, 'Italian': False}}}]\n",
      "\n",
      "\n",
      "Resultant input data with binary attributes:\n",
      " {'attribute_Alcohol': [1, 0, 0], 'attribute_BikeParking': [1, 0], 'attribute_BusinessAcceptsBitcoin': [0, 0], 'attribute_Ambience': [0, 0, 0, 0, 0, 0, 0, 0, 0], 'attribute_Open24Hours': [0, 0], 'attribute_DriveThru': [1, 0], 'attribute_WiFi': [1, 0, 0], 'attribute_AcceptsInsurance': [0, 0], 'attribute_Caters': [1, 0], 'attribute_BYOB': [0, 0], 'attribute_BestNights': [0, 0, 0, 0, 0, 0, 0], 'attribute_BusinessAcceptsCreditCards': [1, 0], 'attribute_BusinessParking': [1, 0, 0, 0, 0], 'attribute_RestaurantsGoodForGroups': [1, 0], 'attribute_HasTV': [1, 0], 'attribute_categories': [1, 0, 0, 0, 0, 1, 0, 0, 0, 0, 0, 0, 0, 0, 0, 0, 0, 0, 0, 0, 0, 0, 0, 1, 0, 0, 0], 'attribute_GoodForMeal': [0, 0, 0, 1, 0, 1], 'attribute_OutdoorSeating': [1, 0], 'attribute_GoodForKids': [1, 0], 'attribute_NoiseLevel': [1, 0, 0, 0], 'attribute_RestaurantsCounterService': [0, 0], 'attribute_Music': [0, 0, 0, 0, 0, 0, 0], 'attribute_stars': [1, 0, 0, 0, 0, 0, 0, 0, 0], 'attribute_AgesAllowed': [0, 0, 0], 'attribute_CoatCheck': [0, 0], 'attribute_RestaurantsReservations': [1, 0], 'attribute_is_open': [1, 0], 'attribute_DogsAllowed': [0, 0], 'attribute_HairSpecializesIn': [0, 0, 0, 0, 0, 0, 0, 0], 'attribute_RestaurantsTableService': [1, 0], 'attribute_postal_code': [1, 0, 0, 0, 0, 0, 0, 0, 0, 0, 0, 0, 0, 0, 0, 0, 0, 0, 0, 0, 0, 0, 0, 0, 0, 0, 0, 0, 0, 0, 0, 0, 0, 0, 0, 0, 0, 0, 0, 0, 0, 0, 0, 0, 0, 0, 0, 0, 0, 0], 'attribute_Corkage': [0, 0], 'attribute_RestaurantsAttire': [1, 0, 0], 'attribute_DietaryRestrictions': [0, 0, 0, 0, 0, 0, 0], 'attribute_BYOBCorkage': [0, 0, 0], 'attribute_RestaurantsTakeOut': [1, 0], 'attribute_Smoking': [0, 0, 0], 'attribute_HappyHour': [0, 0], 'attribute_ByAppointmentOnly': [0, 0], 'attribute_GoodForDancing': [0, 0], 'attribute_RestaurantsPriceRange2': [1, 0, 0, 0], 'attribute_RestaurantsDelivery': [1, 0], 'attribute_WheelchairAccessible': [0, 0]}\n",
      "Data pre-processing took: 0:00:05.707925\n",
      "Training Data size: 14516\n",
      "Training Data Dimensions: (14516, 161)\n"
     ]
    }
   ],
   "source": [
    "startTime0 = datetime.now()\n",
    "cities = ['Las Vegas', 'Scottsdale', 'Tempe',\n",
    "          'Glendale', 'Phoenix', 'Chandler', 'Henderson']\n",
    "\n",
    "classificationVectors = prepare_data(\n",
    "    'business.json', cities, 'postal_code', 50)\n",
    "\n",
    "featureData, labelData = concat_bin_vectors(classificationVectors, False)\n",
    "\n",
    "featureNames = []\n",
    "for solidFeature in classificationVectors[100]:\n",
    "    for i in classificationVectors[0][solidFeature]:\n",
    "        if 'postal' not in solidFeature:\n",
    "            featureNames.append(solidFeature)\n",
    "#\n",
    "\n",
    "print(\"Data pre-processing took:\", datetime.now() - startTime0)\n",
    "\n",
    "npx = np.array(featureData)\n",
    "npy = np.array(labelData)\n",
    "\n",
    "x_train, x_test, y_train, y_test = train_test_split(npx, npy, test_size=0.2)\n",
    "\n",
    "print(\"Training Data size:\", len(x_train))\n",
    "print(\"Training Data Dimensions:\", x_train.shape)\n",
    "\n",
    "# # SVM classifier with Radial Basis Function\n",
    "\n",
    "# startTime1 = datetime.now()\n",
    "\n",
    "# # for i in range()\n",
    "# # classifier1 = LinearSVC(loss='hinge', tol = .001)\n",
    "# classifier1 = svm.SVC(kernel='rbf', C=1, decision_function_shape='ovr')\n",
    "\n",
    "# classifier1.fit(x_train, y_train)\n",
    "# predicted1 = classifier1.predict(x_test)\n",
    "# print(\"\\nTime elapsed in SVMrbf:\", str(datetime.now() - startTime1))\n",
    "# print(\"Accuracy for SVMrbf:\", accuracy_score(y_test, predicted1))\n",
    "# # print(\"F1 for SVMrbf: \", f1_score(predicted1, y_test, average='micro'))\n",
    "\n",
    "\n",
    "# # SGD classifier\n",
    "# startTime2 = datetime.now()\n",
    "# classifier2 = SGDClassifier(loss='hinge', max_iter=200)\n",
    "\n",
    "# classifier2.fit(x_train, y_train)\n",
    "# predicted2 = classifier2.predict(x_test)\n",
    "\n",
    "# print(\"\\nTime elapsed in SGDC:\", str(datetime.now() - startTime2))\n",
    "# print(\"Accuracy for SGDC:\", accuracy_score(y_test, predicted2))\n",
    "# # print(\"F1 for SGDC: \", f1_score(predicted2, y_test, average='micro'))\n",
    "\n"
   ]
  },
  {
   "cell_type": "code",
   "execution_count": 150,
   "metadata": {
    "ExecuteTime": {
     "end_time": "2018-04-19T05:48:42.617870Z",
     "start_time": "2018-04-19T05:48:42.537189Z"
    }
   },
   "outputs": [
    {
     "name": "stdout",
     "output_type": "stream",
     "text": [
      "161\n",
      "b'[\\n  \"85282\", \\n  \"89147\", \\n  \"89146\", \\n  \"85004\", \\n  \"85224\", \\n  \"89139\", \\n  \"89128\", \\n  \"85032\", \\n  \"85018\", \\n  \"85254\"\\n]\\n'\n"
     ]
    }
   ],
   "source": [
    "print(len(featureNames)\n",
    "#from flask import Flask, render_template, jsonify, request\n",
    "import requests\n",
    "\n",
    "req = \"http://127.0.0.1:8000/predict/?category=Coffee+%26+Tea&category=Adult+Entertainment&\\\n",
    "        AgesAllowed=allages&Smoking=no&BusinessParking=yes&Alcohol=outdoor\"\n",
    "resp = requests.get(req)\n",
    "print(resp.content)"
   ]
  },
  {
   "cell_type": "code",
   "execution_count": 137,
   "metadata": {
    "ExecuteTime": {
     "end_time": "2018-04-19T04:49:47.248375Z",
     "start_time": "2018-04-19T04:49:47.239134Z"
    }
   },
   "outputs": [
    {
     "name": "stdout",
     "output_type": "stream",
     "text": [
      "{'attribute_Alcohol': ['none', 'full_bar', 'beer_and_wine'], 'attribute_BikeParking': [True, False], 'attribute_BusinessAcceptsBitcoin': [False, True], 'attribute_is_open': [1, 0], 'attribute_DogsAllowed': [True, False], 'attribute_GoodForKids': [True, False], 'attribute_Open24Hours': [False, True], 'attribute_DriveThru': [True, False], 'attribute_WiFi': ['free', 'paid', 'no'], 'attribute_stars': [1.0, 3.0, 4.0, 2.5, 1.5, 5.0, 3.5, 2.0, 4.5], 'attribute_RestaurantsAttire': ['casual', 'dressy', 'formal'], 'attribute_Caters': [False, True], 'attribute_postal_code': ['85022', '89119', '85016', '89103', '85032', '85258', '85013', '89121', '89014', '89117', '89104', '89123', '85027', '85281', '89145', '85260', '89109', '85004', '85018', '85226', '85044', '85224', '89102', '85034', '85255', '85008', '89128', '89130', '85251', '89169', '89118', '89052', '89101', '85282', '85301', '85308', '89147', '85283', '85257', '89135', '85020', '89113', '89148', '85284', '85003', '85254', '89146', '85225', '89139', '89015'], 'attribute_BYOB': [False, True], 'attribute_RestaurantsPriceRange2': [1, 2, 3, 4], 'attribute_BusinessAcceptsCreditCards': [True, False], 'attribute_RestaurantsTableService': [False, True], 'attribute_RestaurantsGoodForGroups': [True, False], 'attribute_HasTV': [True, False], 'attribute_BYOBCorkage': ['no', 'yes_free', 'yes_corkage'], 'attribute_RestaurantsTakeOut': [True, False], 'attribute_Smoking': ['no', 'outdoor', 'yes'], 'attribute_RestaurantsDelivery': [False, True], 'attribute_RestaurantsReservations': [False, True], 'attribute_HappyHour': [True, False], 'attribute_OutdoorSeating': [False, True], 'attribute_ByAppointmentOnly': [False, True], 'attribute_NoiseLevel': ['loud', 'average', 'very_loud', 'quiet'], 'attribute_RestaurantsCounterService': [False, True], 'attribute_GoodForDancing': [False, True], 'attribute_Corkage': [True, False], 'attribute_AgesAllowed': ['21plus', 'allages', '18plus'], 'attribute_CoatCheck': [False, True], 'attribute_AcceptsInsurance': [True, False], 'attribute_WheelchairAccessible': [True, False]}\n",
      "\n",
      " {'attribute_GoodForMeal': {'latenight': False, 'brunch': False, 'dessert': False, 'breakfast': True, 'dinner': False, 'lunch': True}, 'attribute_BusinessParking': {'lot': True, 'street': False, 'valet': False, 'validated': False, 'garage': False}, 'attribute_DietaryRestrictions': {'halal': True, 'soy-free': True, 'gluten-free': True, 'vegetarian': True, 'dairy-free': True, 'vegan': True, 'kosher': False}, 'attribute_Ambience': {'classy': False, 'divey': False, 'casual': False, 'upscale': False, 'touristy': False, 'trendy': False, 'intimate': False, 'romantic': False, 'hipster': False}, 'attribute_Music': {'jukebox': False, 'karaoke': False, 'no_music': False, 'dj': False, 'live': False, 'background_music': True, 'video': False}, 'attribute_HairSpecializesIn': {'kids': True, 'africanamerican': False, 'perms': True, 'extensions': True, 'curly': True, 'coloring': True, 'straightperms': True, 'asian': True}, 'attribute_categories': {'Fast Food': True, 'Bakeries': False, 'Cocktail Bars': False, 'Pubs': False, 'Dance Clubs': False, 'Burgers': True, 'Hotels & Travel': False, 'Nightlife': False, 'Cafes': False, 'American (Traditional)': False, 'Chinese': False, 'Breakfast & Brunch': False, 'Mexican': False, 'Chicken Wings': False, 'Italian': False, 'Wine & Spirits': False, 'Steakhouses': False, 'Food': False, 'Specialty Food': False, 'Pizza': False, 'Sandwiches': False, 'Bars': False, 'Active Life': False, 'Restaurants': True, 'Coffee & Tea': False, 'Beer': False, 'Adult Entertainment': False}, 'attribute_BestNights': {'tuesday': False, 'sunday': False, 'wednesday': True, 'saturday': False, 'friday': False, 'thursday': False, 'monday': False}}\n"
     ]
    }
   ],
   "source": [
    "with open('attributeLists.json', 'r') as f:\n",
    "    attributeLists = json.load(f)\n",
    "with open('attributeDicts.json', 'r') as f:\n",
    "    attributeDicts = json.load(f)\n",
    "print(attributeLists)\n",
    "print(\"\\n\",attributeDicts)"
   ]
  },
  {
   "cell_type": "code",
   "execution_count": 11,
   "metadata": {
    "ExecuteTime": {
     "end_time": "2018-04-18T14:02:31.042256Z",
     "start_time": "2018-04-18T14:02:31.003018Z"
    }
   },
   "outputs": [
    {
     "name": "stdout",
     "output_type": "stream",
     "text": [
      "['89109', '85251', '85281', '85260', '89119', '89102', '89103', '85308', '85032', '85016', '89117', '85254', '89118', '89123', '85282', '89052', '89014', '89146', '89101', '85226', '89147', '85224', '85018', '89104', '28277', '85225', '89121', '85210', '89128', '85258', '53703', '85255', '85027', '61820', '85004', '85234', '89074', '28202', '85206', '85201', '85204', '85283', '85202', '15222', '89148', '85233', '', '28203', '85374', '85284', '89113', '85295', '85296', '89130', '85382', '85022', '28205', '85301', '85020', '28078', '89139', '89120', '53704', '28105', '85044', '44113', '15237', '85034', '28027', '85014', '89108', '89015', '44107', '53719', '85257', '89135', '89149', '28273', '89169', '85345', '85338', '85286', '28217', '85013', '89145', '28262', '89106', '85205', '28209', '85008', '70173', '89030', '89032', '44060', '85048', '85021', '28031', '85051', '85250', '89183', '85029', '89012', '44122', '85253', '28211', '15203', '85209', '85248', '89129', '85003', '15213', '85050', '44124', '89107', '85331', '85012', '85028', '85381', '15146', '85297', '85040', '85015', '44070', '85203', '85053', '85006', '44145', '44130', '28269', '28208', '53562', '28204', '28210', '44114', '89031', '85323', '85023', '89131', '89011', '15205', '15217', '85268', '85215', '53711', '28134', '44118', '28226', '89115', '85085', '29708', '44136', '15206', '85017', '85306', '85395', '85392', '28227', '44256', '85302', '28216', '89110', '85009', '85086', '15201', '89005', '44094', '85024', '15090', '15219', '44240', '85383', '85042', '15232', '28079', '44116', '15317', '53716', '89134', '61801', '28213', '85212', '61822', '85249', '44129', '53705', '44115', '85213', '28025', '85054', '53590', '61821', '85207', '28054', '89122', '44106', '15212', '85305', '15108', '53713', '44224', '85340', '44111', '53715', '15216', '44011', '15224', '85259', '85007', '85310', '44102', '15236', '44139', '28212', '29715', '44035', '53717', '44221', '44134', '44236', '85379', '85033', '85351', '85043', '28104', '70178', '15017', '85041', '15120', '44131', '15102', '15642', '28270', '85037', '44135', '89144', '85339', '89141', '15238', '44109', '89084', '15235', '28206', '44212', '28173', '44333', '15241', '15220', '85035', '28012', '44121', '29707', '61802', '44146', '44133', '85304', '28056', '53593', '44144', '85298', '85353', '15202', '44143', '44241', '15234', '15228', '44126', '44223', '89081', '44077', '28207', '44087', '15136', '44095', '89178', '85031', '85019', '15122', '89002', '15106', '70372', '28075', '53718', '28083', '44147', '85335', '89136', '15044', '44017', '15143', '44022', '89044', '44012', '85208', '53589', '85388', '85378', '44120', '15226', '15101', '28214', '15668', '15068', '15227', '44125', '28215', '44067', '44202', '73728', '15221', '44039', '70174', '44128', '44001', '70176', '44056', '89142', '28278', '85266', 'M5B 2H1', '85262', '15218', '28036', '44023', '85375', '70563', '28052', '53597', '44092', 'M6A 2T9', '85377', '71032', '85073', '53714', '70771', '70182', '15215', '61874', 'L5B 2C9', '70469', '53575', '85303', '71634', '15210', '70567', '15239', '44141', '44142', '44024', '71638', '70597', '85001', '85256', '15275', '15229', '15211', '71063', 'M1P 4P5', '85307', 'M5V', 'L3R 0Y5', 'M2J 5A7', '70197', '44278', '70190', '53558', '15233', 'M9C 1B8', '44103', 'M5T', '44026', '15209', 'M4K 1N2', '70794', '44138', '89156', '70180', '89158', '53572', 'M6J', 'L4K 5W4', 'L3R', 'M4W 1A7', '85363', '15137', 'L5P 1B2', 'M5A 3C4', '53532', '15147', '44053', 'L3R 4M9', '15223', '15139', '73760', '70734', '61866', '70736', '44119', 'M6K 3P6', 'M1V 5N1', '28120', '89143', '15231', '71065', '88901', 'M6J 1G1', '70193', '71229', '71034', '44123', '15116', '85083', 'L3R 3P9', '89166', '19355', '61853', '85143', '15071', '28263', '28081', '44286', '44110', '29710', '15207', '44137', '71332', '70191', '15132', '70565', '15131', '70435', 'M4P 1E4', 'L3R 3P3', '53527', 'M5V 2A4', '15208', '44140', 'M5T 1L1', '15003', '89086', '70327', 'M5R 1A6', 'M5V 2A5', '70199', '44149', '89138', '44105', 'M5V 1Z4', 'M5E 1C3', 'M2K 1E6', '85373', 'H2X 3K4', 'M4K 1P1', '71636', 'EH6 6JJ', '44052', 'H3B 4G5', 'M4Y 2A6', 'M2N 5S1', 'M2N', '61856', '44062', 'M5B', 'M6G', '89191', '70806', '85236', '85140', '70569', 'L4B 3Z4', '44321', '70376', 'M4J 1L2', 'M1V 5P6', 'M6J 1E6', '44132', 'L3T 7T1', '70188', '61953', 'L4L 1A6', '70499', '70186', '28034', 'L4K 5Y6', 'L4B', '53706', 'M1V', 'L5T 2Y3', 'M5V 2B6', 'H2X 2T6', 'M1V 4S5', '44264', 'M5H', 'L4J 4P8', 'M6J 1E5', '70839', 'M5T 1L8', '89124', 'M5G', 'M5R', 'M6G 1B4', '15025', 'L3P 3J3', 'M5V 1J5', 'L4C 3E3', 'M5B 2H6', 'EH1', 'M4W 1A5', '89161', 'M4G 3B7', 'M5V 1M1', '15037', 'M5V 1K4', 'M4Y 1Z9', '44021', 'H2W 2M4', 'M6J 1E4', 'M5R 1B9', 'M1V 1V2', 'L1V 1B5', 'L4X 1L4', 'L3R 0N8', '44054', 'M5V 2B7', 'M6H', 'H2W 2M7', '85299', 'J0R 1R0', '15289', 'M6K 1L4', '53528', 'L5M 4Z5', 'L6T 3R5', 'M2N 5X2', 'M5C 2L7', 'M5R 1C1', 'H3H 1M1', 'M6G 1L2', 'M5V 1M5', '15024', 'M5T 1S2', 'EH1 1BQ', '71254', 'H3H 1M2', 'M5T 2C2', '44028', 'M6R 2M8', 'M5G 1C3', '44108', 'M6P 1Y8', 'L3R 0W4', 'M4M', '44112', 'M4Y 1Z3', '89154', 'M5T 1G6', 'M6C 1B6', 'M5S 1X2', 'H2V 4G9', 'M1P 5B7', 'M4P 2E7', '70599', 'M5B 2L7', 'M4T 1Y5', 'M6K 3C3', '44178', 'M6K', 'M6J 1E9', 'L5R 3V2', 'M6G 1B2', 'M4Y 2C5', 'M5V 2B5', 'M5V 1K1', 'M6G 1L5', 'M1W 2S8', 'H4Y 1H1', '53726', '28730', 'M5G 2C2', '53774', '44233', 'M4S 2M5', 'M5S 1X8', '89162', 'M9W 1J1', 'L3R 1J5', 'EH1 3AA', 'M4Y', 'L5J 2Y4', 'M2M 3X4', 'M4M 1H4', 'M3B 1X8', 'L4S 1P3', 'M4Y 2C6', 'L3Y 4Z1', 'H3G 2B2', 'M4W 2H2', 'M1S 2B7', 'M4W 1J5', 'M5B 1S1', '15129', 'L6H 6P5', 'M5R 1V9', 'H3Z 1X5', 'M4K 1N7', 'H2Z 1J4', 'M4Y 2B6', 'M4P 2C8', 'L4W 1S9', 'M5N 1A5', 'M5V 1Z7', 'H2J 2L2', 'H2X 2V5', 'M2N 5R6', '70619', 'L4J', '15243', 'H2T 1S1', 'H2X 2V4', 'M4S 2N4', 'M6A 3A1', 'M5V 2A9', '85264', 'M6R 2N1', '15063', '15145', 'M4J 1N4', 'M5J 1A7', 'H2X 3P9', '70374', 'M4Y 1Z2', 'M5T 2L6', 'M5H 3Y2', 'M2N 6Z4', 'M6A', 'H3T 1Y8', '15126', 'M4P 2C6', '44065', '28164', 'M4W 3E2', 'EH2 3AA', 'M5T 2L4', 'M4P 2H6', 'M5B 1L2', '89111', '70378', 'M5V 2B3', 'M4S 1Z9', 'M2N 3A8', 'L6A', 'L4B 3B4', 'H2X 3K8', 'L3R 9W4', 'M6S 1P9', 'M5B 2G9', 'M5J', 'M5S 1Y4', '61873', 'L3R 9W6', 'H3H 1M6', '28107', 'L4B 3Z1', 'M3J 1P3', '85355', 'M4J 1M6', 'M6J 1G5', 'M4Y 1Z5', '44262', '70629', '85285', 'M4Y 1X9', 'M5J 1E6', 'M6J 2Z7', '70329', 'M5V 2B4', 'M4W 1A8', '53508', 'H2S 3C7', 'M5B 1S8', 'M5A', 'M5T 2L8', 'M4K 1P3', 'M4J 1L8', 'M2N 5N2', 'M9C 5H5', 'L5N 8J4', 'EH2 3DT', 'M4P 2E6', 'H7T 1C8', 'M6C 1A7', '44117', 'H4C 2G3', 'M6G 1K8', 'M6S 1N4', 'M5V 1M3', 'M5G 2C8', 'H2X 3K3', 'J0R 1R6', 'H2Z 1C1', 'EH2 2ER', 'M5V 2A8', 'L4G 7J1', '53598', 'M2N 7A1', 'H2X 2H5', 'L6A 4N9', 'M6P 1Z3', 'M8X 1C4', 'J4Y 0B3', 'M6P', 'M5S 1Y2', 'M5S 1X5', 'H2T 1S5', 'M4P 2H5', 'L5M 6J3', 'L5G 1G8', 'M4K 1N8', 'EH15 3RD', 'L3R 2G8', 'L6H 6Z9', 'M5V 3K2', 'H3A 3J5', 'M4M 3G6', 'L5N 8P7', 'M5S 1Y6', 'M4K 1N1', 'M5G 1C7', 'M5R 1J2', 'H3B', 'H2S 3S3', 'EH10 4DG', 'L4C 5G2', 'EH1 1LL', 'L4Y 4G6', 'EH8 9DH', 'M5E 1C7', 'M6S 1N6', 'L5C 4P3', 'L3Y 3Y9', 'M2N 5Z7', 'EH12 9DN', 'L4C 5T2', '85280', 'M5T 2W6', 'M4P 1A6', 'M4L 1C9', 'M4K 1P5', 'M6K 1T9', 'L4J 7Y3', 'L1N 9S2', 'EH1 3SS', '85045', 'M3C 1V6', 'M5T 1G7', '44255', 'M5T 2E7', '28280', 'M6H 1A1', 'EH1 1BP', '89077', 'H2W 1X6', 'M4M 1H2', 'M4T 1W5', 'M6J 1G4', 'EH2', 'M5S', '15085', 'M6R 1A6', 'M9B 3Y8', 'M5J 2T3', 'M6G 1B5', 'M4M 1H1', 'M6J 2Y7', 'H2X 3L7', 'L3R 2G9', 'M4J 1M9', 'L3R 1K9', 'M4M 3L1', 'EH1 1BB', 'L4H 0A2', 'M5H 1J8', 'L4C 6Z1', 'M4L 1H7', 'H3G 2E3', 'EH1 1SG', 'M4X 1P3', 'L4K 5Y5', 'M4M 1L4', 'M1W 3Y1', 'H9B 2R8', 'M5T 2M1', 'M5V 2A2', 'M4V 1K6', '70192', 'M5B 2H4', 'M5N 1A2', 'L3R 9W5', 'L4J 0A7', 'L1Z 1G1', 'L4K 0A2', 'M6J 1H9', '15144', 'EH1 1', 'M4P 2J3', '70195', 'L5B', 'L4J 1A1', 'M3B 1Y6', '15104', 'M6G 1A4', 'M5S 1Y5', 'M6R', 'M5T 2G8', 'H3G 2C1', 'M4S 2A2', 'M6H 1N7', 'M5R 1G2', '85387', 'M6R 2K6', 'L4J 3M8', 'H9B 1Z8', 'EH1 3JT', 'M8X 1E9', 'M6G 1K4', 'M5T 2G3', 'H3G', 'H2W 2M2', 'L1V 1B8', 'M4H 1C3', 'L6A 4H6', 'L4K 5C3', 'M5C', 'L3X 1V6', 'M6J 1G3', 'EH1 2DJ', 'J4X 1C2', 'M9C 1A8', 'M9A 1C2', 'EH7 5HN', 'M5R 2A7', 'M6G 1B8', 'H2S 2M2', 'M4G 3B5', 'M5X 1A9', 'L6C 0A2', 'H3B 1B9', 'M6G 1C6', 'EH1 1QS', 'M5T 2G6', 'M4Y 2C8', 'M5T 2K2', 'L3R 2Z5', 'M5E 1C2', 'H2Y', 'M2N 5N5', '70184', 'M6H 4B1', 'L6C 1Y9', 'M5J 2N5', 'H3B 1K1', 'M4S 2N2', 'M6S 1P5', 'M5S 1Y3', 'M5B 1S5', 'M6G 1C2', 'H3G 2B6', 'M6J 1H1', 'H2J 2L4', 'M4P 2H7', '15332', 'H2J 2L3', 'H3H', 'H2J 2L1', 'M4M 1Y3', 'L4K', 'M4L 1J1', 'M5H 1W7', 'M5T 1G9', 'M6P 1A6', 'M6K 3E4', 'M4E 1E3', 'L5B 2G6', 'M1V 0C7', '44044', 'H2W 1Z8', 'M5B 2L9', 'M2M 3X7', 'M6S 3Z3', 'M5T 2L9', 'L3R 9V4', 'M4N 2M4', 'M4W 3L8', '85252', 'M1L 2L9', 'L3T 7Y3', 'M6R 1B2', 'M6G 1B3', 'M6K 1L7', 'M6K 1L5', 'L4B 4V9', 'H3H 1L7', 'M6J 1J6', 'M6G 1M2', 'M5T 1R9', 'M5T 1T3', 'H3G 2B8', 'M5C 1K9', 'L5M 1K8', 'M6H 4A9', 'M6S 1P2', 'M6K 3E7', 'L5N 8E1', 'M2J', 'M5V 1N4', 'M4T 2S9', 'M5T 3A9', 'M5B 1N8', 'M8X 1Y6', 'M6J 1G6', 'M2J 4A8', 'M5G 1H1', 'H2W 1Y2', 'M5T 1S6', '28032', 'EH1 3DQ', 'H2W 1Z3', 'M1P', 'M4W 2L6', 'L5R 3T7', 'M4N 2L5', 'L6R 2K7', 'M6J 1E3', 'M6G 1L4', 'M5T 3K7', 'M5H 1T1', '85318', '71101', 'M4M 1H3', 'EH8 9DB', 'L0G 1T0', 'M4Y 1Z4', 'H4R 1P8', 'M4Y 2B7', 'M8W 1N2', 'EH3', 'L3R 5Y3', 'M6J 1E8', 'M5R 1V7', 'H2R 1S7', 'M6R 1B3', 'EH2 1EN', 'L5N 4B7', 'M5R 3G8', 'EH1 2JU', 'M4G 3C1', 'M4P', 'M1L 4C2', 'EH7 4AA', 'M6S 1P7', 'M4K 1P7', 'H2T 1R9', 'M5T 3K5', 'EH8 9', 'M2N 5R3', 'H2T 1N4', 'L4J 1W5', 'M4J 1L1', 'M6R 2M3', 'M6A 3B4', 'M5V 1M7', 'EH8 9JQ', 'M4C 1J6', 'M1V 4A1', 'M5J 2G8', 'H2W 1X9', 'M1R 2Z4', 'L4J 2L1', 'H3B 4W3', 'M1R', 'M4W', 'M4Y 1Y8', 'M6R 2M6', 'L3T 7P6', 'H2X 2H6', '70825', '85311', 'M2M 3W5', 'M1R 4C2', 'M4Y 2B2', 'M4L 1H5', 'L1V 1A8', 'M1T 1A3', 'M5V 2A1', 'EH9 1QW', 'L0J 1C0', 'M6H 1A5', 'L5G 1E1', 'EH2 1DJ', 'M4K 1R1', 'H3B 4G1', 'L3T 2C6', 'L1V 6K3', 'M4K 1P9', 'L4K 2M9', 'L3T 5Z2', 'L5C 4E6', 'L6E 0H7', 'EH1 2QN', 'EH1 1BS', 'L4C 3C7', 'M6G 1B7', 'L5G 1C9', 'EH8 9BZ', 'M6S', '15034', 'M4K 1P6', '44055', 'M5M 4A1', 'M5S 1W7', 'M6R 1X3', 'M4C 1J4', '61803', 'M4C 1H8', 'M4N 2N3', 'M1T 3L4', 'M3J 3N2', 'H3H 1N2', 'M6J 2Z2', 'M4L 1H3', '15214', 'M6G 1M1', '44104', 'M5B 1J3', 'L5B 3X9', 'M4C 1M9', 'M4W 2H1', 'M2N 5M6', 'L4Z 3K8', 'L5J 1J7', '71394', 'L4B 3K4', 'M5V 1X2', 'EH10 4ER', 'EH1 3RJ', 'EH9 1JH', 'L4B 3Y7', 'M2N 7L3', 'L4B 3B1', 'M4L 1J3', 'M6P 1Z1', 'L4S 0A1', 'M1S', 'M2M 4G3', 'L4Y 2C1', 'H3G 2B1', 'EH2 2AN', 'M5R 1A8', 'M5B 1Y7', 'M4Y 2C9', 'M6P 1Y9', 'M6G 1L1', 'M6J 1X3', 'EH1 1SU', 'M6H 1A2', 'M6J 2Z8', 'M6J 2Z4', 'M4S 2M9', 'EH1 3NH', 'M4G 3V1', 'M4M 1K7', 'L4S 0B2', 'M9C 5M1', 'M5G 1N8', 'M6S 1P3', 'M5T 2E9', 'M4J 1L9', 'L6J 2W7', 'EH10 4ES', 'M6P 1Z2', 'H3B 1A6', 'M5T 2L7', 'M5S 2W7', 'L3R 1N3', 'H2W 2M5', 'M5B 1R8', 'H2W 1Y4', 'L6S 5X9', 'M4Y 1Y5', 'H2W 1Y7', 'L4S 0B5', 'M6R 2L2', 'M6G 1B1', 'EH7 4AH', 'M6R 2L3', 'EH2 1LH', 'M2N 5P9', 'M4Y 1X5', 'EH6', 'H2Z 1J6', 'L6A 1S1', 'M2H 3N3', 'EH1 2JW', 'H2X 3K6', 'M6R 2K9', 'H4A 1E4', 'M8X 1G2', 'L1V 4H7', 'M5V 2A7', 'M3H 2S1', 'M8Z 1T8', 'M4L 1H9', 'M6J 1H7', 'M6C 2C4', 'EH3 9BG', 'M1R 4B7', '71069', 'M5T 2M2', 'M3B 1Y2', 'M4W 3G7', 'L4C 1V4', '15056', 'M4K 1R2', 'EH2 2NH', 'H3J 1N9', 'M4G 2L1', 'L4K 3B9', 'H3B 2S7', 'H2L 2H9', 'M4C 1L7', 'M4S 1Y2', 'L6A 3X5', 'M6S 1N9', 'M4J 1L6', 'L4Z 3E8', 'M5E 1C4', 'M5E 1W7', 'H2X 3L1', 'M4X 1P8', 'H9X 1L8', 'M5S 1W5', 'L1S 3V4', 'L4W 4K2', '71642', '15123', 'M5A 2L2', 'M2N 5N6', 'L5V 0B7', 'L4L 8B7', 'H2V 4G3', 'L5H 1G6', 'EH8 9JD', 'L4G 0H5', 'L4A 7X5', 'M4J 3S2', 'EH1 1EJ', 'L1V 1C1', 'M4S 1Z7', '85267', 'M6G 1K7', 'M5B 1T3', 'M6P 1Z7', 'M8Z 1V1', 'M5X 2A2', 'H2S 2L9', 'EH1 1QW', '30966', 'H2X 1K5', 'M4C 1K3', 'M6R 2L6', 'H2Y 1Z5', 'L6A 1S2', 'L4J 1V7', 'M4E 1G2', 'M6B 3S7', 'M5T 1M1', 'L3R 1A3', '1636', 'H2S 3C6', 'EH1 1SR', 'M2N 5M1', 'L1V 3N7', 'H2T 1R2', 'M5H 1X6', 'L3R 0B5', 'M6K 1L9', '44101', 'M6B 4J3', 'M1P 2L1', 'M5S 2J2', '28098', 'EH8 9HX', 'H3A 1T5', 'EH6 6LX', 'EH1 3SB', '44195', 'EH1 2QH', 'M4M 1J5', 'L6A 3N9', '89133', '44280', 'M5T 1H1', 'H2X 2A1', 'M6G 1K5', 'M6K 1T8', 'L5N 7L7', 'L3Y 5L8', 'M4E 1H2', 'H2Y 2E2', 'M5S 1X9', 'M4M 1J3', 'M4S 2A8', 'L5G 1H3', 'L5V 2A8', 'M4S 2A3', 'M4K 2P1', 'L5V 1N3', 'EH8 9PT', 'EH3 5AL', 'M2N 3G1', 'M6G 2L7', 'EH8 8DD', 'H9B 1Z6', 'M1L 2K1', 'M5V 1Z6', 'L6W 4S1', 'M5R 1C4', '15148', 'EH1 1HN', 'M4Y 2E1', 'L5N 4H4', 'M6S 1P1', '89004', 'M2N 5S2', 'M5V 3S8', 'M9A 1B6', 'L6T', 'M3C 3R6', 'H2W 1Y8', 'M6J 1Y6', 'H3G 2E4', 'M5V 1Z2', '85080', 'M5V 1H2', 'M6A 2T3', 'M5G 1C9', '73730', 'M4W 2G8', 'M4T 1M9', 'L3R 1M5', 'L5N 1A6', 'M6E', 'M5T 1P9', 'M5T 1P7', '85385', 'M2M 3T9', 'EH2 1DR', 'M6C 1A1', 'H3T 1Y1', 'M4L 1H6', 'M6J 1V3', 'H2L 2H5', 'L3P 1W5', 'M4S 2C6', 'M2H 1T1', 'M6C 1A3', 'L4J 7Y1', 'L5V 2N6', 'M5T 2J7', 'H2J 2K9', 'H9G 1X2', 'M6G 1K1', 'EH10 4DF', 'M8X 1C2', 'M6G 1Z4', 'M6G 1M3', 'M4E 1E9', 'L5E 1V4', '85087', '89193', 'L3R 2W1', 'H3Z 2N4', 'L4J 1V8', 'L5C', 'M6H 1M3', 'L3R 4G9', 'L4Z 3L9', 'M6J 1X5', 'L6H 4L2', 'EH2 3ES', 'EH1 1DE', 'L1V 1A6', 'M4S 2A4', 'M5T 2G5', 'M5S 2B4', '06632', 'L1R 3H8', 'L5B 4C1', 'L1S 2J1', 'H9B 1Z9', 'M5S 1G4', '15321', 'M6P 1Z4', 'EH8 8', 'L4B 3J6', 'H2Z 1S5', 'M6P 1Z9', 'M6S 1N2', 'L4W 1V5', 'L4J 8W1', 'M5R 3K5', 'EH8 8AA', 'M1S 2C1', 'H3A 1P7', 'M4M 1K1', 'L4H 2P8', 'M9W', 'H4G 1W8', '15636', 'EH1 1SB', 'M4E 1E2', 'H3B 2T6', 'M5V 3C7', 'H2S 3C8', 'EH1 3SA', 'M4W 1A1', 'L3S 4S1', 'M6S 2S1', 'M6H 1L6', 'M6C 2C5', 'M4C 1M1', 'M6R 1A8', 'L6S 0B8', 'M4W 2G9', 'L4B 3N7', 'L4J 3N1', 'M5G 1M7', 'M5G 1K3', 'M5M 4A2', 'M3B 2M3', 'EH3 9', 'EH1 1PE', 'M6J 1V9', 'M6K 1X9', 'M6G 1M4', 'B1636', 'M5H 0A3', 'L6J 7S8', 'EH2 2BY', 'M4L', 'M6R 1X6', 'L1V 4M1', 'M4G 3T7', 'L4B 3P7', 'M4M 2T4', 'H2Y 1L9', 'M4M 1K9', 'H2Y 2E5', 'M6J 1X4', 'H9R 5A5', 'M6C', 'M6J 1J3', 'M5K 1A1', 'H4C 1N9', '19464', 'M1K 1N8', 'EH4 1HJ', 'M6G 1A9', 'H2X 3K7', 'M5A 3A2', 'EH2 1EE', 'L6L 1H7', 'M6J 1J4', 'M1H 2Y2', 'M5J 1E3', 'L3P', 'H7T 1A1', 'H4C 1P4', 'M5V 1Z9', 'H2J 2L5', 'M6R 1A4', 'L3R 2N8', 'M5J 2S1', 'M5S 2T9', 'L4C 1T6', 'L3T 1L3', 'H7S 1M9', 'L4J 7R5', 'M5M 4A4', 'L3R 0G6', 'M6H 1A3', 'L6J 7Z5', 'L5L 3R8', 'M4L 1C4', 'M4T 1Y7', 'M8V 1C5', 'EH8 9BT', 'M5V 2L4', 'EH9 1JJ', '12919', 'M5V 1J2', 'EH4 1HX', 'M2N 5P2', 'M5T 1L2', 'L3P 1B9', 'M4J 1M1', '15057', 'L5B 4L1', 'H2V 4H1', 'EH8', 'M4N 2L4', 'M4M 1Y2', 'M9B 1A8', 'EH10 4HN', 'H2Z 1J5', 'M8Z 1S2', 'L4G 1P2', 'M5J 2H7', 'L5B 4M6', 'M6C 1B5', 'M6C 1A9', 'L1S 2H6', 'L5M 1L5', 'M9B 1B5', 'J0R 1R3', '44050', 'H2T 1R5', 'M6H 1M1', 'M6A 2T2', 'H3A', 'L6H 6C8', '71686', 'L3R 2P4', 'M4M 1J6', 'M2N 5S3', 'H2Y 3B3', 'L5R 4G6', 'EH10 4HG', 'H2J 1Z2', 'M1C 3B2', 'L3R 5Y7', 'EH1 2JR', 'M4W 3J6', 'M4C 3G4', '85142', 'M5R 3L2', '73733', 'M6H 1L4', 'M6C 1B1', 'J4Y 0A5', 'M4S 1Z3', 'L5C 4E3', '28244', 'M6J 1J5', 'M6H 1L7', 'L3T 0C7', 'M5S 1T8', 'M5V 1M9', 'M1S 5H5', 'M5T 1T1', 'L5K 2K8', 'M1L 2M6', 'M3H 5Y4', 'M5A 1E1', 'L0J', 'M6S 1M7', 'H3C 4W7', 'M2N 5R4', 'M5P 2W3', 'M4Y 1E7', 'H8P 1B3', 'M5T 1R5', 'M6H 1N3', 'J4Y 0G4', 'M1P 2L6', 'EH12 5DS', 'H2Y 1G6', 'M5E', 'H4A 1X7', 'EH8 9AL', 'L4W 1J8', 'M4X 1P7', 'L3Y 4V8', 'H3T 1X8', 'L4W 4G1', 'M4P 2J4', 'EH1 2HJ', 'L5V 2X8', 'EH3 9AF', 'EH1 1NB', 'M5X 1B8', 'L5V 0A6', 'L4H 2Z7', 'L0H 1G0', 'M4E 1E5', 'L4G 0G2', 'L4H 0R2', 'M4M 1J7', 'H2V 4E7', 'M9C 1A7', 'M5V 1Z8', 'M4R 1B2', 'L3S 0B5', 'EH9 1QR', 'EH3 9AN', 'L3S 3K1', 'M5T 3B3', 'M9W 6K5', 'EH12 5LA', 'H2L 2E3', 'M4M 2S1', 'L6Y 4M3', 'L6H 6Y3', 'L3R 5M6', 'L3T 4X1', 'L6H 6K7', 'L4W', 'M6R 2M9', 'L3S 0B6', 'M5S 2R4', 'L6H 3H6', 'EH8 9EH', 'L5R 3E7', 'M1B', 'H2W', 'M2K 2E6', 'H2V 4E4', 'M4K 1P8', 'M4S 2A5', 'H2L 2H2', 'M1B 2W4', 'M4K 2P7', 'M6H 1M8', 'M6P 3S6', 'L4K 0A3', 'H2X 3Y2', '15225', 'M6L 3C9', 'L4G 1J5', 'EH2 4AD', '85287', 'H2X 2V7', 'H3G 1Z1', 'M4Y 1B4', 'EH2 2PJ', 'M1H 2V6', 'M5T 1L9', 'M4X 1P6', 'H2W 1Z5', 'M5C 2C5', 'H9G 1X1', 'H2S 1A1', 'M4C 1J8', 'M4S 1Z8', 'EH2 1EP', 'M4C', 'M5A 1T1', 'M5G 1P5', '70439', 'M4L 1Z7', 'EH1 1PB', 'M5V 3P1', 'EH1 3JU', 'H2T 1S4', 'M4M 1J4', '85068', 'EH16 5PB', 'M5S 2V6', 'M1R 2Y3', '15026', '53515', 'M5G 1Z3', 'M5T 2G4', 'M4C 3G5', 'H9B 1P7', 'M1B 3C3', 'M1L 4T7', 'M5H 3T9', 'L5H 1E9', 'L4B 3P8', '85246', 'H2X 1L4', 'M5S 1X4', 'M4H 1C4', 'L3T 2S2', 'L6H 6N9', 'L4X 1M1', 'L4C 1V7', 'M1C 1B6', 'L5N', '85275', 'L3R 0J5', 'M6J 1V1', 'EH3 9AW', 'EH8 8BN', 'EH2 4BA', 'L6S 3L2', 'EH3 9JP', 'M5T 1S7', 'M1T 3K8', 'L4C', 'L3P 1W2', '85244', 'L4A 0K2', 'M3M 1A2', 'M5G 1L7', 'H3Z 2P9', 'L3P 1X7', 'L4X 1M3', 'L3T 2A9', 'H2J 1X1', 'EH1 1EN', 'H2X 1B7', 'M5G 1M5', 'EH1 1TB', 'M4S 2M4', 'M4J', 'M1L 4V9', 'M6K 1T5', 'L1V 6P7', 'M6P 3L4', 'M4N 2L1', 'M5R 3L3', 'M9C 5K5', 'L6C 0G6', 'M5V 1N6', 'M4P 2J5', 'M5R 2C7', 'L5M 1L3', 'L4A 7X3', 'M6A 1L7', 'EH9 1QF', 'M1T 2M5', 'M1S 5B8', 'M6H 1A4', 'M5S 1G6', 'L3P 1X5', 'M5V 2G7', 'M6J 1E7', 'M5E 1M2', 'L6H 1M4', 'L6B 0P2', 'M5V 2B2', 'M4M 1K2', 'M5V 2K2', 'M6G 1K9', 'M5A 3A3', 'M6H 1N4', 'EH7 4AQ', 'L0G 1M0', 'L5L 2V8', 'H3J 1N5', 'M9P 3B6', 'M2N 7K4', 'H3G 1Z2', 'L5C 1T7', 'EH1 3SL', 'L4L 2V5', 'H2Y 1T4', 'M5S 3E7', '85005', 'M6P 1A7', 'M2M 3T2', 'M6A 3B2', 'EH4 1LY', 'M6L 1A4', 'M4T 1Z6', 'M4P 1K2', 'L3R 2N2', '85545', 'M5T 2W7', 'H3H 1M3', 'EH4 1HH', '85269', 'M5H 3M9', 'H2L 3L2', 'M4S 3C4', 'M1T 3J7', 'L5G 1H9', 'H2S 3C3', 'EH2 2LE', 'L5W 0E6', 'L5G 1E3', 'M4B', 'H3J 1M3', '71701', 'H3G 2E8', 'L4Y 2B6', 'L4G 3W3', 'H3G 1V7', 'L6X 1M8', 'L4C 8S7', 'M4M 2H1', 'L3Y 5Y1', 'M5T 1X3', 'L4C 3N8', 'L6V 4K2', 'M3J 2S5', 'M4T 3A7', 'M4P 3H1', 'L4J 3W1', 'M5J 1B5', 'L4K 2Y7', 'L5C 2S3', 'M4M 1Z4', 'M5T 2G2', 'M5B 1E1', '89105', 'M6S 1N3', 'M9M 2E7', 'L4L 9J8', 'M6G 1C1', 'M5V 2L7', '45612', 'L4L 0B2', 'M4M 1G9', 'M4E 1E1', 'L1N', 'M4L 1H8', 'EH1 1LS', 'M5T 2E2', 'M4Y 1Z8', 'L5J 1J4', 'M6E 1B5', 'M4L 1G1', 'M3J', 'J4Y 1A4', 'M5A 4M8', 'H4A 1G8', 'L6X 5E9', 'L5N 1A1', 'M8Z 1S1', 'L5C 3B6', 'M6C 2E2', 'M8X 1E7', 'L5K 1P9', 'M2K 1G4', 'M2M 3W2', 'M4K 2P6', 'M5A 3W7', 'L5M 5Y7', '71334', 'L6J', 'L1N 1C4', 'L5C 1T8', 'H2L 2H4', 'H4R 1Y8', 'M5M 3Z1', 'M4X 1W4', 'M4E 1T4', 'H2X 1H6', 'H8N 1X3', 'M5V 1N3', 'M5T 2K1', 'EH2 2EY', 'EH3 6QG', 'M4C 1H6', 'M6K 3S3', 'L5B 1N4', 'M4M 1Z6', 'M6E 1B4', 'L4W 5G6', 'M5V 2T6', 'M4A 2S8', 'H3H 1L8', 'H2W 2M3', 'H1M 1W9', 'M2N 5P8', 'M4L 1J4', 'EH2 2', 'EH8 9DD', 'H4R 1K4', 'EH7 5RG', '15204', 'H3B 5K4', 'H4A 1C7', 'M4Y 1R4', 'M3A 1Z5', 'M5S 1V8', 'L6L 0B7', 'H3H 2K5', 'M4N 2M7', 'EH3 9JH', 'L7A 2Y7', 'M1W 3G5', 'M9A 3T7', 'L6V 4A4', 'M5V 1E3', 'M5H 2S8', 'M7A 2C7', 'L4C 7A1', 'M2M 3V7', 'M1J 1K2', 'M3J 3K5', 'H3G 2A9', 'M5V 2A6', 'M8Z 6A4', '44040', 'L3T 2B2', 'M5G 1X5', 'EH3 6LX', 'M5S 2X9', 'L5J 1K5', 'L4C 9S2', 'M1V 0B3', 'M5H 3S6', 'H2Y 1H2', 'L4C 3C9', 'L5A 4E4', 'H3G 2H4', 'EH2 2AD', 'EH3 9QG', 'EH10 4EQ', 'M5R 2H2', 'H7T 1C7', 'EH11 1AF', 'M2M 3W6', 'M5R 3G1', 'EH8 9DT', 'L6K 3E1', 'M6R 1A1', 'L4C 7A2', 'L3T 2A6', 'M4W 1A9', 'L1T 1P5', 'M2N 5P7', 'L5V', 'EH1 2HS', 'L4C 3E4', 'M5T 3A5', 'M4N 2L6', 'EH1 2QZ', 'H3B 2V5', 'M4Y 1M7', 'M6C 2B6', 'M5B 1M4', 'M4X 1P9', 'M3B 1X7', 'L3P 1B8', 'M4Y 2X6', 'L6J 1J4', 'M4K', 'M5S 3A5', 'M5T 1K6', 'M5T 2J8', 'L6Y 1N7', 'M3C 1T2', 'EH3 8DT', 'EH1 1SX', 'H2Y 1C7', 'L4L 4Y5', 'H2J 2K8', 'M3K 1E6', 'L5K 1R8', 'M4M 1L5', 'H3G 2H7', 'H3H 1M7', '89009', 'M1R 2Z1', 'EH8 9PS', 'EH2 3JD', 'H2L 2H7', 'M2J 5B3', 'L4Z 3X7', 'M3L 1A5', 'M4N 2M6', 'L4K 2S9', 'M5G 1C8', 'M6G 1C5', 'J4Y 0B6', 'M4Y 2E2', 'L1S 7J4', 'L4K 2N6', 'H2Y 1H3', 'M4E 1E6', 'M6S 2E2', 'H2Y 1S5', 'L5A 3V9', 'M3J 3T8', 'M8X 1B9', 'L0G 1N0', 'H2T 1A5', 'M4M 1K3', 'H2T 2N7', 'EH1 3AT', 'M5R 1J9', 'H2L 2G2', 'M5A 1S2', 'M6N 1L3', 'L6Z 1Y4', 'L6H 7P3', 'M3H 1S9', '89179', 'M6J 1X7', 'EH6 5EL', 'L4X 2Z2', 'L3R 0T9', 'M5A 1J9', 'L3T 6G7', 'L3T 0A2', 'M5T 2Z5', 'EH2 4QS', 'M6C 2C7', 'L3R 5Y2', 'L3R 1M1', 'M4P 2Y3', 'H2H 1V3', 'M4A 2V6', 'M6H 1B6', '15367', 'M1L 2L6', 'M4L 1H1', 'H3G 2E2', 'M6H 1A6', 'L3Y 3E3', 'M5M 3Y6', 'M5T 1S5', 'L1T 3A6', 'L4C 1T5', 'L5A 3Y1', 'M5N 1A3', 'L5J 1J6', 'EH2 2LR', 'M4C 1J9', 'M4S', 'L4C 9M5', 'M5M 4A5', 'M2H 1J8', 'H3H 1M4', 'M4L 1Z6', 'EH1 2AB', 'L5N 2W7', 'L4X 2V3', 'M4G 4H9', 'H4G 1V1', 'M5G 2K4', 'M5T 1M5', 'M6S 3Z2', 'M6G 1B9', 'M4R 2H1', 'H2Y 2A6', 'EH3 7NG', 'M6J 2Z9', 'M5A 1A4', 'M6J 2Z5', 'M6P 1Z8', 'M5H 2R2', 'H3J 1N4', '73732', 'M8Z 1N7', '89053', 'M6K 1M3', 'M6C 2C2', 'L9N 0A2', 'M1T 1A4', 'M6S 4W4', 'L1Z 0K5', '71144', 'L4B 1A6', 'M9N', 'M4P 3B7', 'M6H 2A6', 'EH1 3RH', 'EH9 1AQ', 'M5R 1B8', 'M5G 2C4', 'L6G 0A2', 'H2X 3L6', 'M6J 1T9', 'L5G 1E5', 'L4C 3B2', 'L5N 2R5', '15135', 'EH8 9TJ', 'L6J 1H8', 'M5R 2H4', 'M1K 2S3', 'M6H 2X6', 'M6J 1X6', 'L4G', 'M6P 1B2', 'M3J 2V5', 'L6J 1H3', 'L5N 5R3', 'L4C 9M9', 'M6H 1N2', 'M4Y 1K9', 'M6A 2C7', 'M5S 1P7', 'M6G 1K3', 'M8Z 1M8', 'EH8 9AY', '28246', 'M6K 1L6', 'M4T 2P7', 'L4C 3C1', 'M1B 5N6', 'L5M 7L9', 'M9A 1B9', 'L5B 2C4']\n"
     ]
    }
   ],
   "source": [
    "import csv\n",
    "with open('postal_codes.csv', 'r') as f:\n",
    "    zips = csv.reader(f, delimiter=',')\n",
    "#     print(type(zips))\n",
    "    i = 0\n",
    "    data_read = [row[0] for row in zips]\n",
    "    print(data_read[1:2000])"
   ]
  },
  {
   "cell_type": "code",
   "execution_count": 51,
   "metadata": {
    "ExecuteTime": {
     "end_time": "2018-04-18T19:13:41.334906Z",
     "start_time": "2018-04-18T19:13:34.609854Z"
    },
    "scrolled": true
   },
   "outputs": [
    {
     "name": "stdout",
     "output_type": "stream",
     "text": [
      "1555\n",
      "MAP@10 score for RandomForest Classifier is: 0.4283746556473829\n",
      "Accuracy for Random Forest: 0.11763085399449036\n"
     ]
    }
   ],
   "source": [
    "# Random Forest classifier\n",
    "# estimator = [('clf', \n",
    "#                MultiOutputClassifier(RandomForestClassifier(n_estimators=200, max_features = 15, random_state=0),\n",
    "#              n_jobs=-1))]\n",
    "# pipe = Pipeline(estimator)\n",
    "pipe = make_pipeline(RandomForestClassifier())\n",
    "parameter_grid1 = {\"randomforestclassifier__n_estimators\" : [100, 500, 250],\n",
    "              \"randomforestclassifier__max_features\" : [1, 10, 40],\n",
    "#              \"randomforestclassifier__max_features\" : [x*10 for x in range(1, 11)],\n",
    "             \"randomforestclassifier__min_impurity_decrease\": [0.1, 0.3, 0.01]\n",
    "             }\n",
    "# pipe\n",
    "clf1 = RandomForestClassifier(n_estimators=200, max_features = 15, random_state=0)\n",
    "# grid1 = GridSearchCV(pipe, param_grid=parameter_grid, cv=3, n_jobs=-1)\n",
    "clf1.fit(x_train, y_train)\n",
    "predictions = clf1.predict(x_test)\n",
    "print(\"MAP@10 score for RandomForest Classifier is:\", map_n(clf1, x_test, y_test, 10))\n",
    "print(\"Accuracy for Random Forest:\", accuracy_score(y_test, predictions))\n",
    "# print(\"\\n\",grid.best_params_)"
   ]
  },
  {
   "cell_type": "code",
   "execution_count": 117,
   "metadata": {
    "ExecuteTime": {
     "end_time": "2018-04-18T23:53:59.107932Z",
     "start_time": "2018-04-18T23:53:59.047437Z"
    },
    "scrolled": true
   },
   "outputs": [
    {
     "name": "stdout",
     "output_type": "stream",
     "text": [
      "3630\n",
      "Best parameters:  [(0.0251, 'attribute_WheelchairAccessible'), (0.0226, 'attribute_stars'), (0.0216, 'attribute_stars'), (0.0189, 'attribute_stars'), (0.018, 'attribute_RestaurantsPriceRange2'), (0.0178, 'attribute_WiFi'), (0.0175, 'attribute_WiFi'), (0.0173, 'attribute_stars'), (0.0173, 'attribute_Caters'), (0.0173, 'attribute_BusinessParking'), (0.0156, 'attribute_is_open'), (0.0155, 'attribute_is_open'), (0.015, 'attribute_RestaurantsPriceRange2'), (0.0148, 'attribute_stars'), (0.0143, 'attribute_BikeParking'), (0.0142, 'attribute_Caters'), (0.0136, 'attribute_RestaurantsDelivery'), (0.0135, 'attribute_GoodForMeal'), (0.0134, 'attribute_GoodForKids'), (0.013, 'attribute_categories'), (0.0126, 'attribute_GoodForKids'), (0.0122, 'attribute_GoodForMeal'), (0.0118, 'attribute_NoiseLevel'), (0.0118, 'attribute_BikeParking'), (0.0115, 'attribute_BusinessAcceptsBitcoin'), (0.0113, 'attribute_RestaurantsTakeOut'), (0.0112, 'attribute_stars'), (0.0112, 'attribute_BusinessAcceptsCreditCards'), (0.0111, 'attribute_ByAppointmentOnly'), (0.0108, 'attribute_Ambience'), (0.0107, 'attribute_categories'), (0.0105, 'attribute_RestaurantsReservations'), (0.0105, 'attribute_DogsAllowed'), (0.0105, 'attribute_Alcohol'), (0.0103, 'attribute_categories'), (0.0102, 'attribute_BusinessParking'), (0.0101, 'attribute_HasTV'), (0.0098, 'attribute_RestaurantsDelivery'), (0.0094, 'attribute_stars'), (0.0092, 'attribute_GoodForMeal'), (0.0091, 'attribute_HasTV'), (0.009, 'attribute_RestaurantsReservations'), (0.0087, 'attribute_categories'), (0.0086, 'attribute_BusinessParking'), (0.0085, 'attribute_NoiseLevel'), (0.0084, 'attribute_RestaurantsGoodForGroups'), (0.0083, 'attribute_categories'), (0.0083, 'attribute_OutdoorSeating'), (0.0083, 'attribute_DogsAllowed'), (0.008, 'attribute_OutdoorSeating'), (0.0079, 'attribute_RestaurantsAttire'), (0.0078, 'attribute_stars'), (0.0076, 'attribute_categories'), (0.0076, 'attribute_categories'), (0.0076, 'attribute_categories'), (0.0075, 'attribute_RestaurantsAttire'), (0.0074, 'attribute_categories'), (0.0072, 'attribute_Alcohol'), (0.0071, 'attribute_GoodForMeal'), (0.007, 'attribute_categories'), (0.0069, 'attribute_Alcohol'), (0.0067, 'attribute_RestaurantsTakeOut'), (0.0066, 'attribute_categories'), (0.0066, 'attribute_HairSpecializesIn'), (0.0066, 'attribute_GoodForMeal'), (0.0064, 'attribute_RestaurantsGoodForGroups'), (0.0064, 'attribute_HairSpecializesIn'), (0.0063, 'attribute_categories'), (0.0062, 'attribute_categories'), (0.006, 'attribute_stars'), (0.006, 'attribute_HappyHour'), (0.0058, 'attribute_DriveThru'), (0.0058, 'attribute_Corkage'), (0.0057, 'attribute_BusinessAcceptsCreditCards'), (0.0056, 'attribute_categories'), (0.0056, 'attribute_categories'), (0.0055, 'attribute_WheelchairAccessible'), (0.0055, 'attribute_RestaurantsPriceRange2'), (0.0055, 'attribute_GoodForMeal'), (0.0053, 'attribute_ByAppointmentOnly'), (0.0052, 'attribute_categories'), (0.0051, 'attribute_categories'), (0.0051, 'attribute_categories'), (0.0048, 'attribute_HappyHour'), (0.0047, 'attribute_categories'), (0.0047, 'attribute_BusinessParking'), (0.0044, 'attribute_categories'), (0.0043, 'attribute_categories'), (0.0041, 'attribute_CoatCheck'), (0.0041, 'attribute_Ambience'), (0.0036, 'attribute_NoiseLevel'), (0.0036, 'attribute_HairSpecializesIn'), (0.0035, 'attribute_categories'), (0.0035, 'attribute_DriveThru'), (0.0034, 'attribute_Music'), (0.0031, 'attribute_DietaryRestrictions'), (0.0031, 'attribute_Ambience'), (0.003, 'attribute_AcceptsInsurance'), (0.0029, 'attribute_GoodForDancing'), (0.0027, 'attribute_CoatCheck'), (0.0026, 'attribute_BYOBCorkage'), (0.0025, 'attribute_BYOBCorkage'), (0.0025, 'attribute_BYOB'), (0.0024, 'attribute_categories'), (0.0023, 'attribute_categories'), (0.0023, 'attribute_WiFi'), (0.0023, 'attribute_BestNights'), (0.0022, 'attribute_HairSpecializesIn'), (0.0022, 'attribute_BusinessParking'), (0.0021, 'attribute_categories'), (0.0021, 'attribute_NoiseLevel'), (0.0021, 'attribute_BestNights'), (0.0021, 'attribute_BestNights'), (0.002, 'attribute_HairSpecializesIn'), (0.002, 'attribute_GoodForDancing'), (0.0019, 'attribute_Smoking'), (0.0019, 'attribute_BestNights'), (0.0019, 'attribute_BestNights'), (0.0019, 'attribute_Ambience'), (0.0019, 'attribute_AgesAllowed'), (0.0018, 'attribute_Smoking'), (0.0018, 'attribute_RestaurantsPriceRange2'), (0.0017, 'attribute_RestaurantsCounterService'), (0.0017, 'attribute_RestaurantsAttire'), (0.0016, 'attribute_HairSpecializesIn'), (0.0016, 'attribute_Ambience'), (0.0015, 'attribute_RestaurantsCounterService'), (0.0015, 'attribute_Music'), (0.0015, 'attribute_Music'), (0.0014, 'attribute_RestaurantsTableService'), (0.0014, 'attribute_Open24Hours'), (0.0014, 'attribute_Music'), (0.0014, 'attribute_BestNights'), (0.0013, 'attribute_categories'), (0.0013, 'attribute_RestaurantsTableService'), (0.0013, 'attribute_BestNights'), (0.0013, 'attribute_AcceptsInsurance'), (0.0012, 'attribute_categories'), (0.0012, 'attribute_DietaryRestrictions'), (0.0012, 'attribute_DietaryRestrictions'), (0.0012, 'attribute_Ambience'), (0.0012, 'attribute_Ambience'), (0.0011, 'attribute_HairSpecializesIn'), (0.0011, 'attribute_BusinessAcceptsBitcoin'), (0.001, 'attribute_Smoking'), (0.001, 'attribute_Ambience'), (0.0009, 'attribute_Music'), (0.0009, 'attribute_Music'), (0.0008, 'attribute_Ambience'), (0.0007, 'attribute_Music'), (0.0007, 'attribute_DietaryRestrictions'), (0.0006, 'attribute_DietaryRestrictions'), (0.0006, 'attribute_BYOBCorkage'), (0.0006, 'attribute_AgesAllowed'), (0.0005, 'attribute_DietaryRestrictions'), (0.0005, 'attribute_Corkage'), (0.0004, 'attribute_AgesAllowed'), (0.0003, 'attribute_HairSpecializesIn'), (0.0003, 'attribute_BYOB'), (0.0002, 'attribute_DietaryRestrictions'), (0.0001, 'attribute_Open24Hours')]\n"
     ]
    }
   ],
   "source": [
    "# a = [x*10 for x in range(1, 11)]\n",
    "print(y_test.size)\n",
    "# print(map_n(grid2, x_test, y_test, 10))\n",
    "# print(\"\\n\",clf1.best_params_)\n",
    "# grid2\n",
    "print(\"Best parameters: \", sorted(zip(map(lambda x: round(x, 4), clf1.feature_importances_), featureNames), \n",
    "             reverse=True))\n"
   ]
  },
  {
   "cell_type": "code",
   "execution_count": 118,
   "metadata": {
    "ExecuteTime": {
     "end_time": "2018-04-19T00:00:53.372919Z",
     "start_time": "2018-04-18T23:59:22.391821Z"
    }
   },
   "outputs": [
    {
     "name": "stdout",
     "output_type": "stream",
     "text": [
      "1821\n",
      "MAP@10 score for Xtreme Gradient Boosting Classifier is: 0.5016528925619834\n"
     ]
    }
   ],
   "source": [
    "# clf2 = XGBClassifier(max_depth=10, n_jobs = -1)\n",
    "\n",
    "clf2 = XGBClassifier(n_estimators = 170, min_child_weight = 0.01, n_jobs = -1)\n",
    "# parameter_grid2 = {\"xgbclassifier__n_estimators\" : [170, 120],\n",
    "# #               \"xgbclassifier__max_depth\" : [3, 5, 10],\n",
    "# #              \"randomforestclassifier__max_features\" : [x*10 for x in range(1, 11)],\n",
    "#              \"xgbclassifier__min_child_weight\": [0.01, 0.03]\n",
    "#              }\n",
    "# # pipe\n",
    "# # clf1 = RandomForestClassifier(n_estimators=200, max_features = 15, random_state=0)\n",
    "# grid2 = GridSearchCV(clf2, param_grid=parameter_grid2, cv=3, n_jobs=-1)\n",
    "clf2.fit(x_train, y_train)\n",
    "print(\"MAP@10 score for Xtreme Gradient Boosting Classifier is:\", map_n(clf2, x_test, y_test, 10))\n",
    "# print(\"Best parameters: {}\".format(pipe.feature_importances_))\n",
    "\n",
    "# print(\"Best features: \", sorted(zip(map(lambda x: round(x, 4), clf2.feature_importances_), featureNames), \n",
    "#              reverse=True))\n",
    "\n",
    "# print(\"\\nTime elapsed in Grid Search:\", str(datetime.now() - startTime3))\n",
    "# print(grid.best_params_)\n",
    "\n",
    "# predicted3 = pipe.predict(x_test)\n",
    "# pipe = make_pipeline(PreProcessing(),\n",
    "#                     RandomForestClassifier())\n",
    "\n",
    "# classifier3.fit(x_train, y_train)\n",
    "# predicted3 = classifier3.predict(x_test)\n",
    "# print(\"\\nTime elapsed in Random Forest:\", str(datetime.now() - startTime4))\n",
    "# print(\"Accuracy for Random Forest:\", accuracy_score(y_test, predicted3))\n",
    "\n",
    "# print(\"F1 for Random Forest:\", f1_score(predicted3, y_test, average='micro'))"
   ]
  },
  {
   "cell_type": "code",
   "execution_count": 119,
   "metadata": {
    "ExecuteTime": {
     "end_time": "2018-04-19T00:01:23.947923Z",
     "start_time": "2018-04-19T00:01:23.791664Z"
    }
   },
   "outputs": [
    {
     "name": "stdout",
     "output_type": "stream",
     "text": [
      "Best features:  [(0.0281, 'attribute_BusinessParking'), (0.0187, 'attribute_BusinessParking'), (0.0168, 'attribute_BusinessParking'), (0.0167, 'attribute_BusinessParking'), (0.0164, 'attribute_BikeParking'), (0.016, 'attribute_OutdoorSeating'), (0.0143, 'attribute_categories'), (0.012, 'attribute_RestaurantsPriceRange2'), (0.012, 'attribute_GoodForMeal'), (0.012, 'attribute_BikeParking'), (0.0118, 'attribute_stars'), (0.0116, 'attribute_WiFi'), (0.0115, 'attribute_categories'), (0.0109, 'attribute_GoodForMeal'), (0.0108, 'attribute_GoodForMeal'), (0.0104, 'attribute_stars'), (0.0103, 'attribute_Ambience'), (0.0102, 'attribute_BusinessAcceptsCreditCards'), (0.0099, 'attribute_OutdoorSeating'), (0.0098, 'attribute_BusinessAcceptsCreditCards'), (0.0098, 'attribute_Alcohol'), (0.0097, 'attribute_Ambience'), (0.0096, 'attribute_stars'), (0.0096, 'attribute_stars'), (0.0095, 'attribute_is_open'), (0.0093, 'attribute_categories'), (0.0091, 'attribute_Ambience'), (0.009, 'attribute_categories'), (0.009, 'attribute_BusinessAcceptsBitcoin'), (0.0089, 'attribute_stars'), (0.0089, 'attribute_WheelchairAccessible'), (0.0089, 'attribute_RestaurantsPriceRange2'), (0.0089, 'attribute_NoiseLevel'), (0.0088, 'attribute_GoodForKids'), (0.0085, 'attribute_stars'), (0.0084, 'attribute_Smoking'), (0.0082, 'attribute_ByAppointmentOnly'), (0.0081, 'attribute_RestaurantsPriceRange2'), (0.0081, 'attribute_RestaurantsDelivery'), (0.0079, 'attribute_BYOBCorkage'), (0.0078, 'attribute_GoodForKids'), (0.0078, 'attribute_DogsAllowed'), (0.0078, 'attribute_Alcohol'), (0.0077, 'attribute_is_open'), (0.0077, 'attribute_GoodForDancing'), (0.0076, 'attribute_categories'), (0.0075, 'attribute_Caters'), (0.0074, 'attribute_RestaurantsReservations'), (0.0074, 'attribute_GoodForMeal'), (0.0073, 'attribute_categories'), (0.0073, 'attribute_Music'), (0.0072, 'attribute_categories'), (0.0071, 'attribute_categories'), (0.0071, 'attribute_GoodForMeal'), (0.0071, 'attribute_GoodForMeal'), (0.0071, 'attribute_DogsAllowed'), (0.007, 'attribute_Alcohol'), (0.0069, 'attribute_stars'), (0.0068, 'attribute_stars'), (0.0068, 'attribute_WiFi'), (0.0068, 'attribute_WheelchairAccessible'), (0.0067, 'attribute_RestaurantsAttire'), (0.0066, 'attribute_categories'), (0.0066, 'attribute_categories'), (0.0066, 'attribute_HairSpecializesIn'), (0.0065, 'attribute_DriveThru'), (0.0065, 'attribute_BYOB'), (0.0064, 'attribute_categories'), (0.0063, 'attribute_RestaurantsGoodForGroups'), (0.0063, 'attribute_Caters'), (0.0062, 'attribute_RestaurantsAttire'), (0.0062, 'attribute_Ambience'), (0.0061, 'attribute_WiFi'), (0.0061, 'attribute_CoatCheck'), (0.006, 'attribute_categories'), (0.006, 'attribute_DriveThru'), (0.006, 'attribute_BestNights'), (0.0059, 'attribute_HasTV'), (0.0059, 'attribute_HasTV'), (0.0057, 'attribute_categories'), (0.0057, 'attribute_RestaurantsDelivery'), (0.0057, 'attribute_NoiseLevel'), (0.0057, 'attribute_HairSpecializesIn'), (0.0057, 'attribute_ByAppointmentOnly'), (0.0056, 'attribute_HairSpecializesIn'), (0.0055, 'attribute_stars'), (0.0055, 'attribute_categories'), (0.0054, 'attribute_categories'), (0.0054, 'attribute_RestaurantsAttire'), (0.0053, 'attribute_categories'), (0.0053, 'attribute_NoiseLevel'), (0.0052, 'attribute_NoiseLevel'), (0.0052, 'attribute_HappyHour'), (0.0052, 'attribute_AcceptsInsurance'), (0.0051, 'attribute_RestaurantsReservations'), (0.0049, 'attribute_Music'), (0.0048, 'attribute_categories'), (0.0048, 'attribute_RestaurantsGoodForGroups'), (0.0048, 'attribute_HairSpecializesIn'), (0.0047, 'attribute_HappyHour'), (0.0046, 'attribute_RestaurantsTakeOut'), (0.0045, 'attribute_categories'), (0.0044, 'attribute_categories'), (0.0043, 'attribute_RestaurantsTakeOut'), (0.0042, 'attribute_categories'), (0.0042, 'attribute_categories'), (0.0042, 'attribute_RestaurantsCounterService'), (0.0042, 'attribute_BestNights'), (0.0041, 'attribute_categories'), (0.0041, 'attribute_HairSpecializesIn'), (0.0039, 'attribute_BusinessAcceptsBitcoin'), (0.0039, 'attribute_BestNights'), (0.0039, 'attribute_BestNights'), (0.0038, 'attribute_RestaurantsCounterService'), (0.0038, 'attribute_Music'), (0.0038, 'attribute_Ambience'), (0.0037, 'attribute_categories'), (0.0037, 'attribute_Music'), (0.0037, 'attribute_BYOBCorkage'), (0.0036, 'attribute_Open24Hours'), (0.0035, 'attribute_categories'), (0.0034, 'attribute_BestNights'), (0.0033, 'attribute_DietaryRestrictions'), (0.0033, 'attribute_CoatCheck'), (0.0033, 'attribute_BestNights'), (0.0032, 'attribute_RestaurantsPriceRange2'), (0.0031, 'attribute_Ambience'), (0.0029, 'attribute_categories'), (0.0029, 'attribute_DietaryRestrictions'), (0.0029, 'attribute_Ambience'), (0.0028, 'attribute_HairSpecializesIn'), (0.0027, 'attribute_Smoking'), (0.0027, 'attribute_Music'), (0.0027, 'attribute_GoodForDancing'), (0.0027, 'attribute_AcceptsInsurance'), (0.0026, 'attribute_DietaryRestrictions'), (0.0025, 'attribute_categories'), (0.0025, 'attribute_Smoking'), (0.0025, 'attribute_HairSpecializesIn'), (0.0024, 'attribute_RestaurantsTableService'), (0.0024, 'attribute_BestNights'), (0.0024, 'attribute_BYOB'), (0.0023, 'attribute_RestaurantsTableService'), (0.0023, 'attribute_Music'), (0.0022, 'attribute_Corkage'), (0.0022, 'attribute_Ambience'), (0.0021, 'attribute_Music'), (0.0021, 'attribute_Corkage'), (0.0021, 'attribute_BusinessParking'), (0.0021, 'attribute_AgesAllowed'), (0.0017, 'attribute_Open24Hours'), (0.0016, 'attribute_categories'), (0.0016, 'attribute_DietaryRestrictions'), (0.0016, 'attribute_Ambience'), (0.0015, 'attribute_AgesAllowed'), (0.0012, 'attribute_DietaryRestrictions'), (0.0012, 'attribute_DietaryRestrictions'), (0.0011, 'attribute_AgesAllowed'), (0.0009, 'attribute_BYOBCorkage'), (0.0008, 'attribute_HairSpecializesIn'), (0.0007, 'attribute_DietaryRestrictions')]\n"
     ]
    }
   ],
   "source": [
    "print(\"Best features: \", sorted(zip(map(lambda x: round(x, 4), clf2.feature_importances_), featureNames), \n",
    "             reverse=True))\n"
   ]
  },
  {
   "cell_type": "code",
   "execution_count": 123,
   "metadata": {
    "ExecuteTime": {
     "end_time": "2018-04-19T02:00:05.014298Z",
     "start_time": "2018-04-19T02:00:04.999820Z"
    }
   },
   "outputs": [
    {
     "name": "stdout",
     "output_type": "stream",
     "text": [
      "[33 46 21 17 36 39 14 30 13 45]\n",
      "00000000001000000000000000000000000000000000000000\n",
      "['85282', '89146', '85224', '85004', '89147', '89135', '89145', '89118', '85281', '85254']\n",
      "{'attribute_Alcohol': ['none', 'full_bar', 'beer_and_wine'], 'attribute_BikeParking': [True, False], 'attribute_BusinessAcceptsBitcoin': [False, True], 'attribute_is_open': [1, 0], 'attribute_DogsAllowed': [True, False], 'attribute_GoodForKids': [True, False], 'attribute_Open24Hours': [False, True], 'attribute_DriveThru': [True, False], 'attribute_WiFi': ['free', 'paid', 'no'], 'attribute_stars': [1.0, 3.0, 4.0, 2.5, 1.5, 5.0, 3.5, 2.0, 4.5], 'attribute_RestaurantsAttire': ['casual', 'dressy', 'formal'], 'attribute_Caters': [False, True], 'attribute_postal_code': ['85022', '89119', '85016', '89103', '85032', '85258', '85013', '89121', '89014', '89117', '89104', '89123', '85027', '85281', '89145', '85260', '89109', '85004', '85018', '85226', '85044', '85224', '89102', '85034', '85255', '85008', '89128', '89130', '85251', '89169', '89118', '89052', '89101', '85282', '85301', '85308', '89147', '85283', '85257', '89135', '85020', '89113', '89148', '85284', '85003', '85254', '89146', '85225', '89139', '89015'], 'attribute_BYOB': [False, True], 'attribute_RestaurantsPriceRange2': [1, 2, 3, 4], 'attribute_BusinessAcceptsCreditCards': [True, False], 'attribute_RestaurantsTableService': [False, True], 'attribute_RestaurantsGoodForGroups': [True, False], 'attribute_HasTV': [True, False], 'attribute_BYOBCorkage': ['no', 'yes_free', 'yes_corkage'], 'attribute_RestaurantsTakeOut': [True, False], 'attribute_Smoking': ['no', 'outdoor', 'yes'], 'attribute_RestaurantsDelivery': [False, True], 'attribute_RestaurantsReservations': [False, True], 'attribute_HappyHour': [True, False], 'attribute_OutdoorSeating': [False, True], 'attribute_ByAppointmentOnly': [False, True], 'attribute_NoiseLevel': ['loud', 'average', 'very_loud', 'quiet'], 'attribute_RestaurantsCounterService': [False, True], 'attribute_GoodForDancing': [False, True], 'attribute_Corkage': [True, False], 'attribute_AgesAllowed': ['21plus', 'allages', '18plus'], 'attribute_CoatCheck': [False, True], 'attribute_AcceptsInsurance': [True, False], 'attribute_WheelchairAccessible': [True, False]}\n"
     ]
    }
   ],
   "source": [
    "prob = grid2.predict_proba(x_test[:1])\n",
    "best_n = np.argsort(-prob, axis = 1)\n",
    "print(best_n[0][:10])\n",
    "print(y_test[0])\n",
    "with open('attributeLists.json', 'r') as f:\n",
    "    attributeLists = json.load(f)\n",
    "n_top = 10\n",
    "topZips = []\n",
    "for index in best_n[0][:n_top]:\n",
    "    topZips.append(attributeLists['attribute_postal_code'][index])\n",
    "print(topZips)\n",
    "print(attributeLists)"
   ]
  },
  {
   "cell_type": "code",
   "execution_count": null,
   "metadata": {
    "ExecuteTime": {
     "end_time": "2018-04-18T14:03:09.810857Z",
     "start_time": "2018-04-18T14:02:21.956Z"
    }
   },
   "outputs": [],
   "source": [
    "print((predicted3)[:10])\n",
    "print((y_test)[:10])\n",
    "\n",
    "print(predicted3.size)\n",
    "print(y_test.size)\n",
    "\n",
    "print(pipe.classes_)\n",
    "\n",
    "main = pipe.classes_\n",
    "\n",
    "probs = pipe.predict_proba(x_test)\n",
    "best_n = np.argsort(probs)\n",
    "arr = best_n[10][-5:]"
   ]
  },
  {
   "cell_type": "code",
   "execution_count": 142,
   "metadata": {
    "ExecuteTime": {
     "end_time": "2018-04-19T05:14:27.896823Z",
     "start_time": "2018-04-19T05:14:27.847894Z"
    }
   },
   "outputs": [],
   "source": [
    "import pickle\n",
    "filename = \"Model_v0.2.pkl\"\n",
    "\n",
    "with open('../flask_api/Models/'+filename, 'wb') as file:\n",
    "    pickle.dump(clf2, file)"
   ]
  },
  {
   "cell_type": "code",
   "execution_count": null,
   "metadata": {
    "ExecuteTime": {
     "end_time": "2018-04-18T14:03:09.811582Z",
     "start_time": "2018-04-18T14:02:22.010Z"
    }
   },
   "outputs": [],
   "source": [
    "with open('./attributeLists.json', 'r') as f:\n",
    "    attributeLists = json.load(f)\n",
    "\n",
    "for encodedZip in y_test[1:10]:\n",
    "    i = 0\n",
    "    for bit in encodedZip:\n",
    "        if bit == 1:\n",
    "            print(attributeLists['attribute_postal_code'][i])\n",
    "        i += 1"
   ]
  },
  {
   "cell_type": "code",
   "execution_count": null,
   "metadata": {
    "ExecuteTime": {
     "end_time": "2018-04-18T14:03:09.812223Z",
     "start_time": "2018-04-18T14:02:22.018Z"
    }
   },
   "outputs": [],
   "source": [
    "classificationVectors[0]\n",
    "binnis = []\n",
    "with open('business.json', 'r') as f:\n",
    "    for lines in f:\n",
    "        binnis.append(json.loads(lines))"
   ]
  },
  {
   "cell_type": "code",
   "execution_count": null,
   "metadata": {
    "ExecuteTime": {
     "end_time": "2018-04-18T14:03:09.812960Z",
     "start_time": "2018-04-18T14:02:22.026Z"
    },
    "scrolled": true
   },
   "outputs": [],
   "source": [
    "from sklearn.datasets import make_classification\n",
    "from sklearn.multioutput import MultiOutputClassifier\n",
    "from sklearn.ensemble import RandomForestClassifier\n",
    "from sklearn.utils import shuffle\n",
    "import numpy as np\n",
    "X, y1 = make_classification(n_samples=10, n_features=100, n_informative=30, n_classes=3, random_state=1)\n",
    "X1, y1 = make_classification(n_samples=10, n_features=100, n_informative=30, n_classes=3)\n",
    "y2 = shuffle(y1, random_state=1)\n",
    "y3 = shuffle(y1, random_state=2)\n",
    "Y = np.vstack((y1, y2, y3)).T\n",
    "Z = np.array([[1, 0, 0],\n",
    "       [0, 0, 1],\n",
    "       [1, 0, 0],\n",
    "       [0, 1, 0],\n",
    "       [1, 0, 0],\n",
    "       [0, 0, 1],\n",
    "       [0, 0, 1],\n",
    "       [1, 0, 0],\n",
    "       [1, 0, 0],\n",
    "       [0, 1, 0]])\n",
    "n_samples, n_features = X.shape # 10,100\n",
    "n_outputs = Y.shape[1] # 3\n",
    "n_classes = 3\n",
    "forest = RandomForestClassifier(n_estimators=100, random_state=1)\n",
    "multi_target_forest = MultiOutputClassifier(forest, n_jobs=-1)\n",
    "p = multi_target_forest.fit(X, Z).predict(X1)\n",
    "print(p)\n",
    "# print(\"Accuracy for Random Forest:\", accuracy_score(Y, p))"
   ]
  },
  {
   "cell_type": "code",
   "execution_count": null,
   "metadata": {
    "ExecuteTime": {
     "end_time": "2018-04-18T14:03:09.813677Z",
     "start_time": "2018-04-18T14:02:22.030Z"
    },
    "scrolled": true
   },
   "outputs": [],
   "source": [
    "print(y1)\n",
    "print(y2)\n",
    "print(y3)\n",
    "print(Y)\n",
    "Y"
   ]
  },
  {
   "cell_type": "code",
   "execution_count": null,
   "metadata": {
    "ExecuteTime": {
     "end_time": "2018-04-18T14:03:09.814375Z",
     "start_time": "2018-04-18T14:02:22.036Z"
    }
   },
   "outputs": [],
   "source": [
    "binnis[0]"
   ]
  },
  {
   "cell_type": "code",
   "execution_count": null,
   "metadata": {},
   "outputs": [],
   "source": []
  },
  {
   "cell_type": "code",
   "execution_count": null,
   "metadata": {
    "ExecuteTime": {
     "end_time": "2018-04-18T14:03:09.815087Z",
     "start_time": "2018-04-18T14:02:22.040Z"
    }
   },
   "outputs": [],
   "source": [
    "print(attribufeatures[1][10:])"
   ]
  },
  {
   "cell_type": "code",
   "execution_count": null,
   "metadata": {
    "ExecuteTime": {
     "end_time": "2018-04-18T14:03:09.815814Z",
     "start_time": "2018-04-18T14:02:22.042Z"
    }
   },
   "outputs": [],
   "source": [
    "d1={1:2,3:4}\n",
    "d2={5:6,7:9}\n",
    "d3={10:8,13:22}\n",
    "d4 = dict(d1.items() + d2.items())\n",
    "print(d4)"
   ]
  },
  {
   "cell_type": "code",
   "execution_count": null,
   "metadata": {},
   "outputs": [],
   "source": []
  }
 ],
 "metadata": {
  "kernelspec": {
   "display_name": "Python 3",
   "language": "python",
   "name": "python3"
  },
  "language_info": {
   "codemirror_mode": {
    "name": "ipython",
    "version": 3
   },
   "file_extension": ".py",
   "mimetype": "text/x-python",
   "name": "python",
   "nbconvert_exporter": "python",
   "pygments_lexer": "ipython3",
   "version": "3.5.2"
  }
 },
 "nbformat": 4,
 "nbformat_minor": 2
}
