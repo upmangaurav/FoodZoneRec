{
 "cells": [
  {
   "cell_type": "code",
   "execution_count": 70,
   "metadata": {},
   "outputs": [],
   "source": [
    "import ast\n",
    "import datetime\n",
    "import matplotlib.pyplot as plt\n",
    "import numpy as np\n",
    "import os\n",
    "import pandas as pd\n",
    "from sklearn import  preprocessing\n",
    "from sklearn.preprocessing import MultiLabelBinarizer\n",
    "from sklearn.ensemble import RandomForestClassifier\n",
    "from sklearn.metrics import f1_score, precision_score, recall_score, accuracy_score, make_scorer\n",
    "from sklearn.model_selection import train_test_split, GridSearchCV\n",
    "import warnings\n",
    "warnings.filterwarnings('ignore')\n",
    "\n",
    "%matplotlib inline\n",
    "%run initialize_interactivity\n",
    "pd.set_option('display.max_columns', 500)\n",
    "\n",
    "RAW_DATA_PATH = './dataset/'\n",
    "RANDOM_SEED = 0"
   ]
  },
  {
   "cell_type": "code",
   "execution_count": 84,
   "metadata": {},
   "outputs": [],
   "source": [
    "def load_and_preprocess(data_path, maxLabels=10):\n",
    "\n",
    "    # create dataframe\n",
    "    raw_data = pd.read_csv(data_path)\n",
    "\n",
    "    # get data for vegas only\n",
    "    las_vegas = ['Vegas' in city for city in raw_data.city]\n",
    "    vegas_data = raw_data[las_vegas]\n",
    "\n",
    "    # pre-process and fill missing values\n",
    "#     for col in list(vegas_data.columns.values):\n",
    "#         unique_values = list(vegas_data[col].unique())\n",
    "#         # for boolean columns replace nan with False\n",
    "#         if bool in set(type(x) for x in unique_values):\n",
    "#             vegas_data[col].fillna(value='None',inplace=True)\n",
    "#         # for str columns replace nan with 'None'\n",
    "#         if str in set(type(x) for x in unique_values):\n",
    "#             vegas_data[col].fillna(value=b'None',inplace=True)\n",
    "#         # for float columns replace nan with mean\n",
    "#         if np.float64 in set(type(x) for x in unique_values):\n",
    "#             vegas_data[col].fillna(value=vegas_data[col].mean(),inplace=True)\n",
    "\n",
    "    # drop feature columns that are correlated to postal_code\n",
    "    vegas_data.drop(['latitude','longitude','neighborhood','address','city','business_id'],axis=1,inplace=True)\n",
    "\n",
    "    # convert category string literal to list\n",
    "    vegas_data.categories = vegas_data.categories.apply(lambda x: ast.literal_eval(x))\n",
    "\n",
    "    # get set of all business categories\n",
    "    all_categories = set()\n",
    "    for item in vegas_data.categories:\n",
    "        all_categories.update(item)\n",
    "\n",
    "    # one-hot-encode business categories\n",
    "    mlb = MultiLabelBinarizer()\n",
    "    vegas_data = vegas_data.join(pd.DataFrame(mlb.fit_transform(vegas_data.pop('categories')),\n",
    "                              columns=mlb.classes_,\n",
    "                              index=vegas_data.index))\n",
    "\n",
    "#     # drop all non-restaurant categories\n",
    "#     restaurant_categories = ['Restaurants', 'Food', 'Nightlife', 'Bars', 'Active Life', 'Sandwiches',\n",
    "#                               'Fast Food', 'American (Traditional)', 'Pizza', 'Coffee & Tea', \n",
    "#                               'Hotels & Travel', 'Italian', 'Burgers', 'Breakfast & Brunch', \n",
    "#                               'Mexican', 'Chinese', 'Specialty Food', 'Bakeries', 'Cafes', \n",
    "#                               'Chicken Wings', 'Beer', 'Wine & Spirits', 'Steakhouses', \n",
    "#                               'Dance Clubs', 'Cocktail Bars', 'Pubs', 'Adult Entertainment']\n",
    "#     categories_to_drop = list(all_categories.difference(set(restaurant_categories)))\n",
    "#     vegas_data.drop(categories_to_drop,axis=1,inplace=True)\n",
    "    \n",
    "    # include only top 20 postal codes\n",
    "    most_frequent_postal_codes = list(vegas_data.postal_code.value_counts()[:maxLabels].index)\n",
    "    most_freq_index = []\n",
    "    for i in vegas_data.postal_code.index:\n",
    "        if vegas_data.postal_code[i] in most_frequent_postal_codes:\n",
    "            most_freq_index.append(True)\n",
    "        else:\n",
    "            most_freq_index.append(False)\n",
    "    vegas_data = vegas_data.iloc[most_freq_index]\n",
    "\n",
    "    # factorize (encode) categorical variables and create dict of preprocessed data\n",
    "    categorical_data_labels = {}\n",
    "    data_dict = {}\n",
    "    for col in vegas_data.columns:\n",
    "        categorical_data_labels[col] = pd.factorize(vegas_data[col])\n",
    "        data_dict[col] = categorical_data_labels[col][0]\n",
    "        \n",
    "#     for i,x in enumerate(vegas_data.dtypes.values):\n",
    "#         col = vegas_data.columns[i]\n",
    "#         if x == object:\n",
    "#             categorical_data_labels[col] = pd.factorize(vegas_data[col])\n",
    "#             data_dict[col] = categorical_data_labels[col][0]\n",
    "#         else:\n",
    "#             data_dict[col] = vegas_data[col]\n",
    "\n",
    "    encoded_data = pd.DataFrame(data_dict)\n",
    "\n",
    "    return vegas_data, encoded_data, categorical_data_labels"
   ]
  },
  {
   "cell_type": "code",
   "execution_count": 25,
   "metadata": {},
   "outputs": [],
   "source": [
    "def get_test_train(data, target_label, test_size = 0.4, RANDOM_SEED = 0, verbose = False):\n",
    "    \n",
    "    ''' Get train and test datasets '''\n",
    "    \n",
    "    # extract features and targets\n",
    "    features = data.drop([target_label],axis=1)\n",
    "    target = data[target_label]\n",
    "\n",
    "    # get train/test split\n",
    "    train_X, test_X, train_y, test_y = train_test_split(features, target, test_size=test_size, random_state=RANDOM_SEED)\n",
    "    \n",
    "    # print sizes\n",
    "    if verbose:\n",
    "        print('Size of training set:', len(train_y))\n",
    "        print('Size of test set:',len(test_y))\n",
    "    \n",
    "    return train_X, test_X, train_y, test_y"
   ]
  },
  {
   "cell_type": "code",
   "execution_count": 26,
   "metadata": {},
   "outputs": [],
   "source": [
    "def get_cross_val(test_X, test_y, test_size = 0.5, RANDOM_SEED = 0, verbose = False):\n",
    "    \n",
    "    ''' Get cross-val and test datasets '''\n",
    "    \n",
    "    # get train/test split\n",
    "    test_X, cross_X, test_y, cross_y = train_test_split(test_X, test_y, test_size=test_size, random_state=RANDOM_SEED)\n",
    "    \n",
    "    # print sizes\n",
    "    if verbose:\n",
    "        print('Size of cross-validation set:',len(cross_y))\n",
    "        print('New size of test set:', len(test_y))\n",
    "\n",
    "    return test_X, cross_X, test_y, cross_y"
   ]
  },
  {
   "cell_type": "code",
   "execution_count": 27,
   "metadata": {},
   "outputs": [],
   "source": [
    "def train_clf(train_X, train_y, \n",
    "              n_estimators = 10, criterion = 'gini', \n",
    "              max_features = 'auto', max_depth = None, \n",
    "              n_jobs = 2, min_samples_leaf=1,\n",
    "              verbose = False):\n",
    "    \n",
    "    ''' Create and train  Random Forest Classifier with given tuning parameters '''\n",
    "    \n",
    "    # create random forest classifier\n",
    "    clf = RandomForestClassifier(n_estimators = n_estimators, \n",
    "                                 criterion = criterion,\n",
    "                                 max_features = max_features, \n",
    "                                 max_depth = max_depth, \n",
    "                                 n_jobs = n_jobs,\n",
    "                                 min_samples_leaf = min_samples_leaf )\n",
    "    \n",
    "    # train the classifier\n",
    "    clf.fit(train_X, train_y)\n",
    "    \n",
    "    # print train accuracy\n",
    "    train_accuracy = round(accuracy_score(train_y, clf.predict(train_X)),4)\n",
    "    \n",
    "    # print train accuracy\n",
    "    if verbose:\n",
    "        print(f'Train Accuracy = {train_accuracy}') #train\n",
    "    \n",
    "    return clf"
   ]
  },
  {
   "cell_type": "code",
   "execution_count": 28,
   "metadata": {},
   "outputs": [],
   "source": [
    "def test_clf(test_X, test_y, clf, cat_data, verbose=False):\n",
    "    \n",
    "    ''' Test the Random Forest Classifier '''\n",
    "    \n",
    "    # get predictions\n",
    "    predict = clf.predict(test_X)\n",
    "    \n",
    "    # convert target names back to condition indices\n",
    "    postal_code = cat_data['postal_code'][1][predict]\n",
    "    \n",
    "    # precision, recall and f1 scores\n",
    "    precision = precision_score(test_y, predict, average='weighted',labels=np.unique(predict))\n",
    "    recall  =recall_score(test_y, predict, average='weighted',labels=np.unique(predict))\n",
    "    f1 = f1_score(test_y, predict, average='weighted',labels=np.unique(predict))\n",
    "    \n",
    "    accuracy = accuracy_score(test_y,predict)\n",
    "    \n",
    "    # print scores\n",
    "    if verbose:\n",
    "        print(\"Accuracy: %1.5f\" % accuracy)\n",
    "        print(\"Precision: %1.5f\" % precision)\n",
    "        print(\"Recall: %1.5f\" % recall)\n",
    "        print(\"F1: %1.5f\\n\" % f1)\n",
    "    \n",
    "    return predict, postal_code, precision, recall, f1"
   ]
  },
  {
   "cell_type": "code",
   "execution_count": 1,
   "metadata": {
    "collapsed": true
   },
   "outputs": [],
   "source": [
    "def get_feature_importances(clf, top = 10, plot = False, df = False):\n",
    "    \n",
    "    importances = sorted((val,i) for i,val in enumerate(clf.feature_importances_))\n",
    "    importances = pd.DataFrame(importances, columns=[\"Importance\", \"Index\"])\n",
    "    top_ = importances.tail(top)\n",
    "    features = test_X.columns.values[top_['Index']];\n",
    "    \n",
    "    if plot:   \n",
    "        plt.rcParams['figure.figsize'] = [10,8]\n",
    "        x = range(top_.shape[0])\n",
    "        y = top_['Importance']\n",
    "        fig, ax = plt.subplots();   \n",
    "        y_pos = np.arange(len(features));\n",
    "        ax.barh(y_pos, y, align='center', ecolor='black');\n",
    "        ax.set_yticks(y_pos);\n",
    "        ax.set_yticklabels(features);\n",
    "        ax.set_xlabel('Feature Importances');\n",
    "        ax.set_title(f'Top {top} Feature Importances');\n",
    "    elif df:\n",
    "        return pd.DataFrame({\"Feature\":features[::-1],\"Importance\":top_[\"Importance\"][::-1]})       \n",
    "    else:\n",
    "        return top['Importance'], features"
   ]
  },
  {
   "cell_type": "markdown",
   "metadata": {},
   "source": [
    "# Load and Preprocess\n",
    "* First converted json to csv\n",
    "* Raw data was very sparse\n",
    "* To overcome sparsity, filled nan values in the folliwing manner:\n",
    "    * if feature is boolean, fill nan with False\n",
    "    * if feature is string fill nan with 'None'\n",
    "    * if feature is float fill nan with mean \n",
    "* Extracted list of business categories and turned them into new feature categories\n",
    "* Drop features that are correlated to the target (postal_code)\n",
    "* Factorized (encoded) categorical variables"
   ]
  },
  {
   "cell_type": "code",
   "execution_count": 85,
   "metadata": {},
   "outputs": [],
   "source": [
    "vegas_data, encoded_data, categorical_data_labels = load_and_preprocess(RAW_DATA_PATH + 'business.csv', maxLabels=10)\n",
    "vegas_data.to_pickle('./dataset/vegas_business_data.pkl')\n",
    "encoded_data.to_pickle('./dataset/vegas_business_data_encoded.pkl')"
   ]
  },
  {
   "cell_type": "markdown",
   "metadata": {},
   "source": [
    "Get test, cross-validation, and test sets."
   ]
  },
  {
   "cell_type": "code",
   "execution_count": 86,
   "metadata": {},
   "outputs": [
    {
     "name": "stdout",
     "output_type": "stream",
     "text": [
      "Size of training set: 8646\n",
      "Size of test set: 5764\n",
      "Size of cross-validation set: 2882\n",
      "New size of test set: 2882\n"
     ]
    }
   ],
   "source": [
    "train_X, test_X, train_y, test_y = get_test_train(encoded_data, target_label='postal_code', test_size = 0.4, RANDOM_SEED = RANDOM_SEED, verbose = True)\n",
    "test_X, cross_X, test_y, cross_y = get_cross_val(test_X, test_y, test_size = 0.5, RANDOM_SEED = RANDOM_SEED, verbose=True)"
   ]
  },
  {
   "cell_type": "markdown",
   "metadata": {},
   "source": [
    "# Train RF Classifier\n",
    "Train Random Forest Classifier using default tuning parameters."
   ]
  },
  {
   "cell_type": "code",
   "execution_count": 88,
   "metadata": {},
   "outputs": [
    {
     "name": "stdout",
     "output_type": "stream",
     "text": [
      "Train Accuracy = 1.0\n"
     ]
    }
   ],
   "source": [
    "clf_train = train_clf(train_X, train_y, n_jobs = 1, n_estimators=200, max_features=50, verbose = True)"
   ]
  },
  {
   "cell_type": "code",
   "execution_count": 89,
   "metadata": {},
   "outputs": [
    {
     "data": {
      "image/png": "[encoded data removed]",
      "text/plain": [
       "<matplotlib.figure.Figure at 0x22608cc0c88>"
      ]
     },
     "metadata": {},
     "output_type": "display_data"
    }
   ],
   "source": [
    "get_feature_importances(clf_train, top = 25, plot = True)"
   ]
  },
  {
   "cell_type": "code",
   "execution_count": 90,
   "metadata": {},
   "outputs": [
    {
     "name": "stdout",
     "output_type": "stream",
     "text": [
      "Accuracy: 0.29944\n",
      "Precision: 0.26084\n",
      "Recall: 0.29944\n",
      "F1: 0.27098\n",
      "\n"
     ]
    }
   ],
   "source": [
    "# test classifier\n",
    "predict, postal_code, precision, recall, f1 = test_clf(test_X, test_y, clf_train, categorical_data_labels, verbose = True)"
   ]
  },
  {
   "cell_type": "code",
   "execution_count": null,
   "metadata": {},
   "outputs": [],
   "source": []
  },
  {
   "cell_type": "markdown",
   "metadata": {},
   "source": [
    "# Hyper-parameter Tuning\n",
    "The parameters that will be tuned are n_estimators, criterion, and max_features."
   ]
  },
  {
   "cell_type": "code",
   "execution_count": 91,
   "metadata": {},
   "outputs": [
    {
     "name": "stdout",
     "output_type": "stream",
     "text": [
      "Best score for training set: 0.29562803608605137\n",
      "Best n_estimators: 500\n",
      "Best criterion: gini\n",
      "Best max_features: 0.5\n"
     ]
    }
   ],
   "source": [
    "# create dictionary of tuning parameters\n",
    "tuning_parameters = {'n_estimators': [10,100,500], \n",
    "                     'criterion': ['gini', 'entropy'], \n",
    "                     'max_features': [0.1, 0.25, 0.5]}\n",
    "\n",
    "# use grid search cross validation set to evaluate tuning parameters and train\n",
    "clf_cv = GridSearchCV(clf_train, param_grid=tuning_parameters, n_jobs = 2).fit(cross_X, cross_y);\n",
    "\n",
    "# print results for best parameter choices\n",
    "print(f'Best score for training set: {clf_cv.best_score_}')\n",
    "print(f'Best n_estimators: {clf_cv.best_estimator_.n_estimators}') \n",
    "print(f'Best criterion: {clf_cv.best_estimator_.criterion}')\n",
    "print(f'Best max_features: {clf_cv.best_estimator_.max_features}')"
   ]
  },
  {
   "cell_type": "markdown",
   "metadata": {},
   "source": [
    "# Test RF Classifier\n",
    "Now test model using tuned parameters and test set not seen before."
   ]
  },
  {
   "cell_type": "code",
   "execution_count": 92,
   "metadata": {},
   "outputs": [],
   "source": [
    "# train a new classifier with the best tuning parameters\n",
    "clf_tuned = RandomForestClassifier(n_estimators = clf_cv.best_estimator_.n_estimators, \n",
    "                       criterion = clf_cv.best_estimator_.criterion,\n",
    "                       max_features = clf_cv.best_estimator_.max_features).fit(train_X, train_y)"
   ]
  },
  {
   "cell_type": "code",
   "execution_count": 93,
   "metadata": {},
   "outputs": [
    {
     "name": "stdout",
     "output_type": "stream",
     "text": [
      "Accuracy: 0.29355\n",
      "Precision: 0.26476\n",
      "Recall: 0.29355\n",
      "F1: 0.27409\n",
      "\n"
     ]
    }
   ],
   "source": [
    "# test classifier\n",
    "predict, postal_code, precision, recall, f1 = test_clf(test_X, test_y, clf_tuned, categorical_data_labels, verbose = True)"
   ]
  },
  {
   "cell_type": "code",
   "execution_count": 94,
   "metadata": {},
   "outputs": [
    {
     "data": {
      "text/html": [
       "<div>\n",
       "<style scoped>\n",
       "    .dataframe tbody tr th:only-of-type {\n",
       "        vertical-align: middle;\n",
       "    }\n",
       "\n",
       "    .dataframe tbody tr th {\n",
       "        vertical-align: top;\n",
       "    }\n",
       "\n",
       "    .dataframe thead th {\n",
       "        text-align: right;\n",
       "    }\n",
       "</style>\n",
       "<table border=\"1\" class=\"dataframe\">\n",
       "  <thead>\n",
       "    <tr style=\"text-align: right;\">\n",
       "      <th></th>\n",
       "      <th>Feature</th>\n",
       "      <th>Importance</th>\n",
       "    </tr>\n",
       "  </thead>\n",
       "  <tbody>\n",
       "    <tr>\n",
       "      <th>1212</th>\n",
       "      <td>name</td>\n",
       "      <td>0.104978</td>\n",
       "    </tr>\n",
       "    <tr>\n",
       "      <th>1211</th>\n",
       "      <td>review_count</td>\n",
       "      <td>0.082903</td>\n",
       "    </tr>\n",
       "    <tr>\n",
       "      <th>1210</th>\n",
       "      <td>stars</td>\n",
       "      <td>0.052419</td>\n",
       "    </tr>\n",
       "    <tr>\n",
       "      <th>1209</th>\n",
       "      <td>hours.Saturday</td>\n",
       "      <td>0.038630</td>\n",
       "    </tr>\n",
       "    <tr>\n",
       "      <th>1208</th>\n",
       "      <td>hours.Sunday</td>\n",
       "      <td>0.032652</td>\n",
       "    </tr>\n",
       "    <tr>\n",
       "      <th>1207</th>\n",
       "      <td>hours.Friday</td>\n",
       "      <td>0.032331</td>\n",
       "    </tr>\n",
       "    <tr>\n",
       "      <th>1206</th>\n",
       "      <td>hours.Monday</td>\n",
       "      <td>0.028683</td>\n",
       "    </tr>\n",
       "    <tr>\n",
       "      <th>1205</th>\n",
       "      <td>attributes.BusinessParking.garage</td>\n",
       "      <td>0.027739</td>\n",
       "    </tr>\n",
       "    <tr>\n",
       "      <th>1204</th>\n",
       "      <td>hours.Thursday</td>\n",
       "      <td>0.026340</td>\n",
       "    </tr>\n",
       "    <tr>\n",
       "      <th>1203</th>\n",
       "      <td>hours.Tuesday</td>\n",
       "      <td>0.026199</td>\n",
       "    </tr>\n",
       "    <tr>\n",
       "      <th>1202</th>\n",
       "      <td>hours.Wednesday</td>\n",
       "      <td>0.025512</td>\n",
       "    </tr>\n",
       "    <tr>\n",
       "      <th>1201</th>\n",
       "      <td>attributes.RestaurantsPriceRange2</td>\n",
       "      <td>0.020632</td>\n",
       "    </tr>\n",
       "    <tr>\n",
       "      <th>1200</th>\n",
       "      <td>attributes.BikeParking</td>\n",
       "      <td>0.017213</td>\n",
       "    </tr>\n",
       "    <tr>\n",
       "      <th>1199</th>\n",
       "      <td>attributes.BusinessParking.lot</td>\n",
       "      <td>0.012813</td>\n",
       "    </tr>\n",
       "    <tr>\n",
       "      <th>1198</th>\n",
       "      <td>attributes.BusinessAcceptsCreditCards</td>\n",
       "      <td>0.012448</td>\n",
       "    </tr>\n",
       "  </tbody>\n",
       "</table>\n",
       "</div>"
      ],
      "text/plain": [
       "                                    Feature  Importance\n",
       "1212                                   name    0.104978\n",
       "1211                           review_count    0.082903\n",
       "1210                                  stars    0.052419\n",
       "1209                         hours.Saturday    0.038630\n",
       "1208                           hours.Sunday    0.032652\n",
       "1207                           hours.Friday    0.032331\n",
       "1206                           hours.Monday    0.028683\n",
       "1205      attributes.BusinessParking.garage    0.027739\n",
       "1204                         hours.Thursday    0.026340\n",
       "1203                          hours.Tuesday    0.026199\n",
       "1202                        hours.Wednesday    0.025512\n",
       "1201      attributes.RestaurantsPriceRange2    0.020632\n",
       "1200                 attributes.BikeParking    0.017213\n",
       "1199         attributes.BusinessParking.lot    0.012813\n",
       "1198  attributes.BusinessAcceptsCreditCards    0.012448"
      ]
     },
     "execution_count": 94,
     "metadata": {},
     "output_type": "execute_result"
    }
   ],
   "source": [
    "get_feature_importances(clf_tuned, top = 15, df = True)"
   ]
  },
  {
   "cell_type": "code",
   "execution_count": null,
   "metadata": {},
   "outputs": [],
   "source": []
  }
 ],
 "metadata": {
  "kernelspec": {
   "display_name": "Python 3",
   "language": "python",
   "name": "python3"
  },
  "language_info": {
   "codemirror_mode": {
    "name": "ipython",
    "version": 3
   },
   "file_extension": ".py",
   "mimetype": "text/x-python",
   "name": "python",
   "nbconvert_exporter": "python",
   "pygments_lexer": "ipython3",
   "version": "3.5.2"
  }
 },
 "nbformat": 4,
 "nbformat_minor": 2
}
