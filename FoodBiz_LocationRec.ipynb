{
 "cells": [
  {
   "cell_type": "code",
   "execution_count": 1,
   "metadata": {
    "ExecuteTime": {
     "end_time": "2018-04-22T20:47:27.638739Z",
     "start_time": "2018-04-22T20:47:26.752595Z"
    },
    "scrolled": true
   },
   "outputs": [
    {
     "data": {
      "text/plain": [
       "['attributeDicts.json',\n",
       " 'attributeLists.json',\n",
       " 'business.json',\n",
       " 'business.json.zip',\n",
       " 'checkin.json',\n",
       " 'checkin.json.zip']"
      ]
     },
     "execution_count": 1,
     "metadata": {},
     "output_type": "execute_result"
    }
   ],
   "source": [
    "import json\n",
    "import time\n",
    "import os\n",
    "import pandas as pd\n",
    "import numpy as np\n",
    "from xgboost import XGBClassifier\n",
    "from sklearn.externals import joblib\n",
    "from sklearn.base import BaseEstimator, TransformerMixin\n",
    "from sklearn.ensemble import RandomForestClassifier\n",
    "from sklearn.pipeline import Pipeline, make_pipeline\n",
    "from sklearn import svm\n",
    "from sklearn.svm import LinearSVC\n",
    "from sklearn.linear_model import SGDClassifier\n",
    "from sklearn.model_selection import train_test_split, cross_val_score, train_test_split, GridSearchCV\n",
    "from sklearn.metrics import precision_recall_curve, accuracy_score, f1_score\n",
    "from sklearn.pipeline import make_pipeline\n",
    "from sklearn.multiclass import OneVsRestClassifier, OneVsOneClassifier\n",
    "from sklearn.multioutput import MultiOutputClassifier\n",
    "\n",
    "import warnings\n",
    "warnings.filterwarnings('ignore')\n",
    "from datetime import datetime\n",
    "os.chdir(\"/home/gu38/Common/DIVA/FinalProject/yelp/git_DIVA/CS526_FoodZoneRec/dataset/\")\n",
    "os.listdir()"
   ]
  },
  {
   "cell_type": "code",
   "execution_count": 2,
   "metadata": {
    "ExecuteTime": {
     "end_time": "2018-04-22T20:47:30.341221Z",
     "start_time": "2018-04-22T20:47:27.639976Z"
    }
   },
   "outputs": [],
   "source": [
    "'''\n",
    "Function to calculate Total check-ins in a week for a business\n",
    "'''\n",
    "checkins = {}\n",
    "checkin = {}\n",
    "with open('checkin.json', 'r') as f:\n",
    "    for line in f:\n",
    "        checkin = json.loads(line)\n",
    "        checkins[checkin['business_id']] = checkin['time']\n",
    "        \n",
    "def get_checkin_count(id):\n",
    "    count = 0\n",
    "    record = checkins[id]\n",
    "    for day in record:\n",
    "        for hour in record[day]:\n",
    "            count += record[day][hour]\n",
    "    return count"
   ]
  },
  {
   "cell_type": "code",
   "execution_count": 3,
   "metadata": {
    "ExecuteTime": {
     "end_time": "2018-04-22T20:47:30.366420Z",
     "start_time": "2018-04-22T20:47:30.342449Z"
    }
   },
   "outputs": [],
   "source": [
    "'''\n",
    "Function to extract multi-valued Attributes from Business data\n",
    "'''\n",
    "def extract_feature_lists(businesses):\n",
    "    # List of single-valued attributes\n",
    "    attributeLists = {}\n",
    "\n",
    "    #List of multi-valued(dict form) attributes\n",
    "    attributeDicts = {}\n",
    "\n",
    "    # print(\"Before \\n\", json.dumps(businesses[:1], indent=4))\n",
    "\n",
    "    #Generating a list of attribute values:\n",
    "    for entry in businesses:\n",
    "        for item in entry['attributes']:\n",
    "            param = \"attribute_\" + item\n",
    "            entry[param] = entry['attributes'][item]\n",
    "\n",
    "            if isinstance(entry[param], dict):\n",
    "                if param in attributeDicts:\n",
    "                    for var in entry[param]:\n",
    "                        if var not in attributeDicts[param]:\n",
    "                            attributeDicts[param][var] = entry[param][var]\n",
    "                else:\n",
    "                    attributeDicts[param] = entry[param]\n",
    "\n",
    "            else:\n",
    "                if param in attributeLists:\n",
    "                    if entry[param] not in attributeLists[param]:\n",
    "                        attributeLists[param].append(entry[param])\n",
    "                else:\n",
    "                    attributeLists[param] = [entry[param]]\n",
    "                    \n",
    "    return attributeLists, attributeDicts"
   ]
  },
  {
   "cell_type": "code",
   "execution_count": 4,
   "metadata": {
    "ExecuteTime": {
     "end_time": "2018-04-22T20:47:30.420712Z",
     "start_time": "2018-04-22T20:47:30.369363Z"
    },
    "scrolled": true
   },
   "outputs": [],
   "source": [
    "'''\n",
    "Function to convert business attributes to binary vectors\n",
    "'''\n",
    "def generate_binary_vectors(businesses, attributeListsFile, attributeDictsFile):\n",
    "    \n",
    "    with open(attributeListsFile, 'r') as f:\n",
    "        attributeLists = json.load(f)\n",
    "    with open(attributeDictsFile, 'r') as f:\n",
    "        attributeDicts = json.load(f)\n",
    "    \n",
    "    #Converting the attribute lists into binary vectors\n",
    "    for entry in businesses:\n",
    "        for param in attributeLists:\n",
    "            if param in entry:\n",
    "                encodedEntry = []\n",
    "                \n",
    "                # Single valued alphanumerical attributes, will be converted to n-bit vectors\n",
    "                # with a single bit as '1'\n",
    "                for value in attributeLists[param]:\n",
    "                    if entry[param] == value:\n",
    "                        encodedEntry.append(1)\n",
    "                    else:\n",
    "                        encodedEntry.append(0)\n",
    "            else:\n",
    "                encodedEntry = [0] * len(attributeLists[param])\n",
    "            entry[param] = encodedEntry\n",
    "\n",
    "        for param in attributeDicts:\n",
    "            # Multi valued binary attributes, will be converted to n-bit vectors \n",
    "            # with possibly multiple bits as '1' \n",
    "            if param in entry:\n",
    "                encodedEntry = []\n",
    "                # Checking whether the binary sub-attribute value is True\n",
    "                for value in attributeDicts[param]:\n",
    "                    if entry[param][value]:\n",
    "                        encodedEntry.append(1)\n",
    "                    else:\n",
    "                        encodedEntry.append(0)\n",
    "            else:\n",
    "                encodedEntry = [0] * len(attributeDicts[param])\n",
    "\n",
    "            entry[param] = encodedEntry\n",
    "\n",
    "        # At this stage we dont need the original attributes parameter        \n",
    "        del entry['attributes']\n",
    "\n",
    "    return businesses"
   ]
  },
  {
   "cell_type": "code",
   "execution_count": 5,
   "metadata": {
    "ExecuteTime": {
     "end_time": "2018-04-22T20:47:30.568260Z",
     "start_time": "2018-04-22T20:47:30.422400Z"
    },
    "scrolled": true
   },
   "outputs": [],
   "source": [
    "'''\n",
    "Function to retrieve business parameters:\n",
    "\n",
    "Usage: prepare_data < filename, city, Labelling parameter, No. of labels>\n",
    "'''\n",
    "def prepare_data(filename, cities, parameter, maxLabels):\n",
    "\n",
    "    businesses = []\n",
    "\n",
    "    with open(filename, 'r') as f:\n",
    "        \n",
    "        interesting_categories = ['Restaurants', 'Food', 'Nightlife', 'Bars', 'Active Life', 'Sandwiches',\n",
    "                                  'Fast Food', 'American (Traditional)', 'Pizza', 'Coffee & Tea', \n",
    "                                  'Hotels & Travel', 'Italian', 'Burgers', 'Breakfast & Brunch', \n",
    "                                  'Mexican', 'Chinese', 'Specialty Food', 'Bakeries', 'Cafes', \n",
    "                                  'Chicken Wings', 'Beer', 'Wine & Spirits', 'Steakhouses', \n",
    "                                  'Dance Clubs', 'Cocktail Bars', 'Pubs', 'Adult Entertainment']\n",
    "\n",
    "        interesting_params = ['is_open', 'stars', 'categories', parameter]\n",
    "        for line in f:\n",
    "            entry = json.loads(line)\n",
    "\n",
    "            # Filtering relevant businesses by city=Vegas and selected categories\n",
    "            if entry['city'] in cities and any( i in entry['categories'] for i in interesting_categories) \\\n",
    "            and entry[parameter] != '':\n",
    "                relevantEntry = {}\n",
    "                for item in interesting_params:\n",
    "                    if item in entry:\n",
    "                        if item == 'categories':\n",
    "                            cat = {}\n",
    "                            for category in interesting_categories:\n",
    "                                if category in entry[item]:\n",
    "                                    cat[category] = True\n",
    "                                else:\n",
    "                                    cat[category] = False\n",
    "                            entry['attributes'][item] = cat\n",
    "                        else:\n",
    "                            entry['attributes'][item] = entry[item]\n",
    "\n",
    "                relevantEntry['attributes'] = entry['attributes']\n",
    "\n",
    "                businesses.append(relevantEntry)\n",
    "        print(\"\\n\\n\\n\\nData with only useful records and attributes: \\n\",\n",
    "#               json.dumps(businesses[0], indent=4))\n",
    "              businesses[0])\n",
    "                \n",
    "        counter = {}\n",
    "        for item in businesses:\n",
    "            val = item['attributes'][parameter]\n",
    "            if val not in counter:\n",
    "                counter[val] = 1\n",
    "            else:\n",
    "                counter[val] += 1\n",
    "        sortedCounter = dict(sorted(counter.items(), key=lambda item: item[1], reverse = True)[:maxLabels])\n",
    "        \n",
    "        refinedBusinesses = []\n",
    "        for entry in businesses:\n",
    "            if entry['attributes'][parameter] in sortedCounter:\n",
    "                refinedBusinesses.append(entry)\n",
    "                \n",
    "        print(\"\\n\\nSize of the final Input Vector:\\n\", len(refinedBusinesses))\n",
    "        print(refinedBusinesses[:1])\n",
    "\n",
    "#         print(\"before \\n\", json.dumps(refinedBusinesses[:1], indent=4))\n",
    "        #\n",
    "        attributesAsLists, attributesAsDicts = extract_feature_lists(refinedBusinesses)\n",
    "        \n",
    "        with open('attributeLists.json', 'w') as f:\n",
    "            f.write(json.dumps(attributesAsLists))\n",
    "            \n",
    "        with open('attributeDicts.json', 'w') as f:\n",
    "            f.write(json.dumps(attributesAsDicts))\n",
    "        \n",
    "        businessVectors = generate_binary_vectors(refinedBusinesses, 'attributeLists.json', 'attributeDicts.json')\n",
    "        \n",
    "#         print(\"\\n\\nResultant input data with binary attributes:\\n\",json.dumps(businessVectors[0], indent=4))\n",
    "        print(\"\\n\\nResultant input data with binary attributes:\\n\",businessVectors[0])\n",
    "#         for cat in interesting_categories:\n",
    "#             print(\"OR category LIKE \" + \"'\" + cat + \"'\")\n",
    "        return businessVectors"
   ]
  },
  {
   "cell_type": "code",
   "execution_count": 6,
   "metadata": {
    "ExecuteTime": {
     "end_time": "2018-04-22T20:47:30.600734Z",
     "start_time": "2018-04-22T20:47:30.569549Z"
    }
   },
   "outputs": [],
   "source": [
    "'''\n",
    "Function to invert binarized features/Labels back to original text\n",
    "'''\n",
    "def custom_invert_transform(binVec, maxLabels):\n",
    "    \n",
    "    with open('attributeLists.json', 'w') as f:\n",
    "        f.write(json.dumps(attributesAsLists))\n",
    "    with open('attributeDicts.json', 'w') as f:\n",
    "        f.write(json.dumps(attributesAsDicts))\n",
    "        \n",
    "    origList = []\n",
    "    if param in attributesAsLists:\n",
    "        for item in binVec:\n",
    "            i = 0\n",
    "            "
   ]
  },
  {
   "cell_type": "code",
   "execution_count": 7,
   "metadata": {
    "ExecuteTime": {
     "end_time": "2018-04-22T20:47:30.634030Z",
     "start_time": "2018-04-22T20:47:30.601956Z"
    }
   },
   "outputs": [],
   "source": [
    "'''\n",
    "This function concatenates all the feature vectors for input and flattens the Label data\n",
    "'''\n",
    "def concat_bin_vectors(binVec, Multioutput):\n",
    "    outputConVec = []\n",
    "    outputLabelVec = []\n",
    "    for entry in binVec:\n",
    "        rowVec = []\n",
    "        for item in entry:\n",
    "            if item == 'attribute_postal_code':\n",
    "                if(not Multioutput):\n",
    "                    #Convert the list-attribute to a string and remove from binary feature vector\n",
    "                    outputLabelVec.append(''.join(map(str, entry[item])))\n",
    "                else:\n",
    "                    #Convert the list-attribute to a string and remove from binary feature vector\n",
    "                    outputLabelVec.append(entry[item])\n",
    "            else:\n",
    "                rowVec.extend(entry[item])\n",
    "        outputConVec.append(rowVec)\n",
    "    return outputConVec, outputLabelVec"
   ]
  },
  {
   "cell_type": "code",
   "execution_count": 8,
   "metadata": {
    "ExecuteTime": {
     "end_time": "2018-04-22T20:47:30.667264Z",
     "start_time": "2018-04-22T20:47:30.635462Z"
    },
    "scrolled": true
   },
   "outputs": [],
   "source": [
    "'''\n",
    "Custom function to calculate Mean Average Precision (MAP @ N) for test data\n",
    "i.e. Probability that actual zone falls into N recommended zones.\n",
    "\n",
    "Usage: map_n < trained_Classifier, x_test, y_test, N >\n",
    "'''\n",
    "def map_n(clf, test_data, true_labels, n):\n",
    "    \n",
    "    probs = clf.predict_proba(test_data)\n",
    "    best_n = np.argsort(probs, axis = 1)\n",
    "\n",
    "    i = 0\n",
    "    count = 0\n",
    "    for label in true_labels:\n",
    "        relevant_prediction_indices = best_n[i][-n:]\n",
    "        for j in range(n):\n",
    "            if clf.classes_[relevant_prediction_indices[j]] == label:\n",
    "                count += 1\n",
    "                break\n",
    "        i += 1\n",
    "    print(count)\n",
    "    return (count/true_labels.size)"
   ]
  },
  {
   "cell_type": "code",
   "execution_count": 9,
   "metadata": {
    "ExecuteTime": {
     "end_time": "2018-04-22T20:47:36.549818Z",
     "start_time": "2018-04-22T20:47:30.668781Z"
    },
    "scrolled": true
   },
   "outputs": [
    {
     "name": "stdout",
     "output_type": "stream",
     "text": [
      "\n",
      "\n",
      "\n",
      "\n",
      "Data with only useful records and attributes: \n",
      " {'attributes': {'GoodForKids': True, 'RestaurantsGoodForGroups': True, 'RestaurantsAttire': 'casual', 'Alcohol': 'none', 'RestaurantsTableService': False, 'postal_code': '85022', 'Caters': False, 'BikeParking': True, 'categories': {'Breakfast & Brunch': False, 'Food': False, 'Bakeries': False, 'Specialty Food': False, 'Restaurants': True, 'Mexican': False, 'Active Life': False, 'Hotels & Travel': False, 'Sandwiches': False, 'Coffee & Tea': False, 'Chinese': False, 'Italian': False, 'Burgers': True, 'American (Traditional)': False, 'Pubs': False, 'Adult Entertainment': False, 'Chicken Wings': False, 'Nightlife': False, 'Beer': False, 'Bars': False, 'Steakhouses': False, 'Dance Clubs': False, 'Cocktail Bars': False, 'Fast Food': True, 'Cafes': False, 'Pizza': False, 'Wine & Spirits': False}, 'stars': 1.0, 'RestaurantsDelivery': False, 'HasTV': True, 'BusinessAcceptsCreditCards': True, 'Ambience': {'classy': False, 'hipster': False, 'intimate': False, 'upscale': False, 'casual': False, 'touristy': False, 'divey': False, 'trendy': False, 'romantic': False}, 'RestaurantsTakeOut': True, 'NoiseLevel': 'loud', 'is_open': 1, 'WiFi': 'free', 'RestaurantsPriceRange2': 1, 'BusinessParking': {'valet': False, 'validated': False, 'street': False, 'garage': False, 'lot': True}, 'OutdoorSeating': False, 'GoodForMeal': {'brunch': False, 'dinner': False, 'latenight': False, 'lunch': True, 'breakfast': True, 'dessert': False}, 'RestaurantsReservations': False, 'DriveThru': True}}\n",
      "\n",
      "\n",
      "Size of the final Input Vector:\n",
      " 18146\n",
      "[{'attributes': {'GoodForKids': True, 'RestaurantsGoodForGroups': True, 'RestaurantsAttire': 'casual', 'Alcohol': 'none', 'RestaurantsTableService': False, 'postal_code': '85022', 'Caters': False, 'BikeParking': True, 'categories': {'Breakfast & Brunch': False, 'Food': False, 'Bakeries': False, 'Specialty Food': False, 'Restaurants': True, 'Mexican': False, 'Active Life': False, 'Hotels & Travel': False, 'Sandwiches': False, 'Coffee & Tea': False, 'Chinese': False, 'Italian': False, 'Burgers': True, 'American (Traditional)': False, 'Pubs': False, 'Adult Entertainment': False, 'Chicken Wings': False, 'Nightlife': False, 'Beer': False, 'Bars': False, 'Steakhouses': False, 'Dance Clubs': False, 'Cocktail Bars': False, 'Fast Food': True, 'Cafes': False, 'Pizza': False, 'Wine & Spirits': False}, 'stars': 1.0, 'RestaurantsDelivery': False, 'HasTV': True, 'BusinessAcceptsCreditCards': True, 'Ambience': {'classy': False, 'hipster': False, 'intimate': False, 'upscale': False, 'casual': False, 'touristy': False, 'divey': False, 'trendy': False, 'romantic': False}, 'RestaurantsTakeOut': True, 'NoiseLevel': 'loud', 'is_open': 1, 'WiFi': 'free', 'RestaurantsPriceRange2': 1, 'BusinessParking': {'valet': False, 'validated': False, 'street': False, 'garage': False, 'lot': True}, 'OutdoorSeating': False, 'GoodForMeal': {'brunch': False, 'dinner': False, 'latenight': False, 'lunch': True, 'breakfast': True, 'dessert': False}, 'RestaurantsReservations': False, 'DriveThru': True}}]\n",
      "\n",
      "\n",
      "Resultant input data with binary attributes:\n",
      " {'attribute_WiFi': [1, 0, 0], 'attribute_is_open': [1, 0], 'attribute_AcceptsInsurance': [0, 0], 'attribute_BikeParking': [1, 0], 'attribute_GoodForKids': [1, 0], 'attribute_RestaurantsGoodForGroups': [1, 0], 'attribute_AgesAllowed': [0, 0, 0], 'attribute_CoatCheck': [0, 0], 'attribute_RestaurantsTakeOut': [1, 0], 'attribute_NoiseLevel': [1, 0, 0, 0], 'attribute_HairSpecializesIn': [0, 0, 0, 0, 0, 0, 0, 0], 'attribute_BusinessAcceptsBitcoin': [0, 0], 'attribute_Ambience': [0, 0, 0, 0, 0, 0, 0, 0, 0], 'attribute_Open24Hours': [0, 0], 'attribute_RestaurantsAttire': [1, 0, 0], 'attribute_postal_code': [1, 0, 0, 0, 0, 0, 0, 0, 0, 0, 0, 0, 0, 0, 0, 0, 0, 0, 0, 0, 0, 0, 0, 0, 0, 0, 0, 0, 0, 0, 0, 0, 0, 0, 0, 0, 0, 0, 0, 0, 0, 0, 0, 0, 0, 0, 0, 0, 0, 0], 'attribute_Caters': [1, 0], 'attribute_DriveThru': [1, 0], 'attribute_OutdoorSeating': [1, 0], 'attribute_Alcohol': [1, 0, 0], 'attribute_HappyHour': [0, 0], 'attribute_DogsAllowed': [0, 0], 'attribute_RestaurantsTableService': [1, 0], 'attribute_ByAppointmentOnly': [0, 0], 'attribute_HasTV': [1, 0], 'attribute_Corkage': [0, 0], 'attribute_Music': [0, 0, 0, 0, 0, 0, 0], 'attribute_RestaurantsCounterService': [0, 0], 'attribute_DietaryRestrictions': [0, 0, 0, 0, 0, 0, 0], 'attribute_RestaurantsPriceRange2': [1, 0, 0, 0], 'attribute_BYOB': [0, 0], 'attribute_GoodForDancing': [0, 0], 'attribute_BestNights': [0, 0, 0, 0, 0, 0, 0], 'attribute_WheelchairAccessible': [0, 0], 'attribute_GoodForMeal': [0, 0, 0, 1, 1, 0], 'attribute_BusinessAcceptsCreditCards': [1, 0], 'attribute_stars': [1, 0, 0, 0, 0, 0, 0, 0, 0], 'attribute_categories': [0, 0, 0, 0, 1, 0, 0, 0, 0, 0, 0, 0, 1, 0, 0, 0, 0, 0, 0, 0, 0, 0, 0, 1, 0, 0, 0], 'attribute_RestaurantsDelivery': [1, 0], 'attribute_RestaurantsReservations': [1, 0], 'attribute_BYOBCorkage': [0, 0, 0], 'attribute_BusinessParking': [0, 0, 0, 0, 1], 'attribute_Smoking': [0, 0, 0]}\n",
      "Data pre-processing took: 0:00:05.686136\n",
      "Training Data size: 14516\n",
      "Training Data Dimensions: (14516, 161)\n"
     ]
    }
   ],
   "source": [
    "startTime0 = datetime.now()\n",
    "cities = ['Las Vegas', 'Scottsdale', 'Tempe',\n",
    "          'Glendale', 'Phoenix', 'Chandler', 'Henderson']\n",
    "\n",
    "classificationVectors = prepare_data(\n",
    "    'business.json', cities, 'postal_code', 50)\n",
    "\n",
    "featureData, labelData = concat_bin_vectors(classificationVectors, False)\n",
    "\n",
    "featureNames = []\n",
    "for solidFeature in classificationVectors[100]:\n",
    "    for i in classificationVectors[0][solidFeature]:\n",
    "        if 'postal' not in solidFeature:\n",
    "            featureNames.append(solidFeature)\n",
    "#\n",
    "\n",
    "print(\"Data pre-processing took:\", datetime.now() - startTime0)\n",
    "\n",
    "npx = np.array(featureData)\n",
    "npy = np.array(labelData)\n",
    "\n",
    "x_train, x_test, y_train, y_test = train_test_split(npx, npy, test_size=0.2)\n",
    "\n",
    "print(\"Training Data size:\", len(x_train))\n",
    "print(\"Training Data Dimensions:\", x_train.shape)\n",
    "\n",
    "# # SVM classifier with Radial Basis Function\n",
    "\n",
    "# startTime1 = datetime.now()\n",
    "\n",
    "# # for i in range()\n",
    "# # classifier1 = LinearSVC(loss='hinge', tol = .001)\n",
    "# classifier1 = svm.SVC(kernel='rbf', C=1, decision_function_shape='ovr')\n",
    "\n",
    "# classifier1.fit(x_train, y_train)\n",
    "# predicted1 = classifier1.predict(x_test)\n",
    "# print(\"\\nTime elapsed in SVMrbf:\", str(datetime.now() - startTime1))\n",
    "# print(\"Accuracy for SVMrbf:\", accuracy_score(y_test, predicted1))\n",
    "# # print(\"F1 for SVMrbf: \", f1_score(predicted1, y_test, average='micro'))\n",
    "\n",
    "\n",
    "# # SGD classifier\n",
    "# startTime2 = datetime.now()\n",
    "# classifier2 = SGDClassifier(loss='hinge', max_iter=200)\n",
    "\n",
    "# classifier2.fit(x_train, y_train)\n",
    "# predicted2 = classifier2.predict(x_test)\n",
    "\n",
    "# print(\"\\nTime elapsed in SGDC:\", str(datetime.now() - startTime2))\n",
    "# print(\"Accuracy for SGDC:\", accuracy_score(y_test, predicted2))\n",
    "# # print(\"F1 for SGDC: \", f1_score(predicted2, y_test, average='micro'))\n",
    "\n"
   ]
  },
  {
   "cell_type": "code",
   "execution_count": 10,
   "metadata": {
    "ExecuteTime": {
     "end_time": "2018-04-22T20:47:36.774985Z",
     "start_time": "2018-04-22T20:47:36.551365Z"
    }
   },
   "outputs": [
    {
     "name": "stdout",
     "output_type": "stream",
     "text": [
      "161\n",
      "b'[\\n  \"85282\", \\n  \"89147\", \\n  \"85027\", \\n  \"89109\", \\n  \"89146\", \\n  \"85224\", \\n  \"85004\", \\n  \"89139\", \\n  \"89117\", \\n  \"85301\"\\n]\\n'\n"
     ]
    }
   ],
   "source": [
    "print(len(featureNames))\n",
    "#from flask import Flask, render_template, jsonify, request\n",
    "import requests\n",
    "\n",
    "req = \"http://127.0.0.1:8000/predict/?category=Bars&category=Restaurants&category=Nightlife&\\\n",
    "        AgesAllowed=allages&Smoking=no&BusinessParking=yes&Alcohol=outdoor\"\n",
    "resp = requests.get(req)\n",
    "print(resp.content)"
   ]
  },
  {
   "cell_type": "code",
   "execution_count": 11,
   "metadata": {
    "ExecuteTime": {
     "end_time": "2018-04-22T20:47:36.784973Z",
     "start_time": "2018-04-22T20:47:36.778395Z"
    }
   },
   "outputs": [
    {
     "name": "stdout",
     "output_type": "stream",
     "text": [
      "{'attribute_WiFi': ['free', 'paid', 'no'], 'attribute_DogsAllowed': [True, False], 'attribute_is_open': [1, 0], 'attribute_RestaurantsTableService': [False, True], 'attribute_AcceptsInsurance': [True, False], 'attribute_ByAppointmentOnly': [False, True], 'attribute_HasTV': [True, False], 'attribute_GoodForKids': [True, False], 'attribute_Corkage': [True, False], 'attribute_RestaurantsGoodForGroups': [True, False], 'attribute_AgesAllowed': ['21plus', 'allages', '18plus'], 'attribute_CoatCheck': [False, True], 'attribute_RestaurantsTakeOut': [True, False], 'attribute_NoiseLevel': ['loud', 'average', 'very_loud', 'quiet'], 'attribute_RestaurantsPriceRange2': [1, 2, 3, 4], 'attribute_BYOB': [False, True], 'attribute_GoodForDancing': [False, True], 'attribute_WheelchairAccessible': [True, False], 'attribute_BusinessAcceptsBitcoin': [False, True], 'attribute_Open24Hours': [False, True], 'attribute_BusinessAcceptsCreditCards': [True, False], 'attribute_RestaurantsAttire': ['casual', 'dressy', 'formal'], 'attribute_postal_code': ['85022', '89119', '85016', '89103', '85032', '85258', '85013', '89121', '89014', '89117', '89104', '89123', '85027', '85281', '89145', '85260', '89109', '85004', '85018', '85226', '85044', '85224', '89102', '85034', '85255', '85008', '89128', '89130', '85251', '89169', '89118', '89052', '89101', '85282', '85301', '85308', '89147', '85283', '85257', '89135', '89108', '85020', '89113', '89148', '85284', '85254', '89146', '85225', '89139', '89015'], 'attribute_stars': [1.0, 3.0, 4.0, 2.5, 1.5, 5.0, 3.5, 2.0, 4.5], 'attribute_BikeParking': [True, False], 'attribute_RestaurantsCounterService': [False, True], 'attribute_Alcohol': ['none', 'full_bar', 'beer_and_wine'], 'attribute_DriveThru': [True, False], 'attribute_RestaurantsReservations': [False, True], 'attribute_OutdoorSeating': [False, True], 'attribute_Caters': [False, True], 'attribute_RestaurantsDelivery': [False, True], 'attribute_HappyHour': [True, False], 'attribute_BYOBCorkage': ['no', 'yes_free', 'yes_corkage'], 'attribute_Smoking': ['no', 'outdoor', 'yes']}\n",
      "\n",
      " {'attribute_categories': {'Breakfast & Brunch': False, 'Pubs': False, 'Bakeries': False, 'Specialty Food': False, 'Restaurants': True, 'Mexican': False, 'Active Life': False, 'Food': False, 'Sandwiches': False, 'Coffee & Tea': False, 'Chinese': False, 'Italian': False, 'Burgers': True, 'American (Traditional)': False, 'Adult Entertainment': False, 'Chicken Wings': False, 'Nightlife': False, 'Beer': False, 'Bars': False, 'Wine & Spirits': False, 'Dance Clubs': False, 'Cocktail Bars': False, 'Hotels & Travel': False, 'Fast Food': True, 'Cafes': False, 'Pizza': False, 'Steakhouses': False}, 'attribute_BestNights': {'sunday': False, 'monday': False, 'wednesday': True, 'saturday': False, 'friday': False, 'tuesday': False, 'thursday': False}, 'attribute_GoodForMeal': {'brunch': False, 'latenight': False, 'dessert': False, 'lunch': True, 'breakfast': True, 'dinner': False}, 'attribute_Ambience': {'romantic': False, 'classy': False, 'hipster': False, 'touristy': False, 'casual': False, 'upscale': False, 'divey': False, 'trendy': False, 'intimate': False}, 'attribute_DietaryRestrictions': {'vegan': True, 'gluten-free': True, 'kosher': False, 'vegetarian': True, 'halal': True, 'soy-free': True, 'dairy-free': True}, 'attribute_HairSpecializesIn': {'asian': True, 'perms': True, 'coloring': True, 'kids': True, 'extensions': True, 'straightperms': True, 'curly': True, 'africanamerican': False}, 'attribute_BusinessParking': {'valet': False, 'validated': False, 'street': False, 'garage': False, 'lot': True}, 'attribute_Music': {'live': False, 'video': False, 'dj': False, 'jukebox': False, 'karaoke': False, 'no_music': False, 'background_music': True}}\n"
     ]
    }
   ],
   "source": [
    "with open('attributeLists.json', 'r') as f:\n",
    "    attributeLists = json.load(f)\n",
    "with open('attributeDicts.json', 'r') as f:\n",
    "    attributeDicts = json.load(f)\n",
    "print(attributeLists)\n",
    "print(\"\\n\",attributeDicts)"
   ]
  },
  {
   "cell_type": "code",
   "execution_count": 12,
   "metadata": {
    "ExecuteTime": {
     "end_time": "2018-04-22T20:47:36.829320Z",
     "start_time": "2018-04-22T20:47:36.787023Z"
    }
   },
   "outputs": [],
   "source": [
    "# import csv\n",
    "# with open('postal_codes.csv', 'r') as f:\n",
    "#     zips = csv.reader(f, delimiter=',')\n",
    "# #     print(type(zips))\n",
    "#     i = 0\n",
    "#     data_read = [row[0] for row in zips]\n",
    "#     print(data_read[1:2000])"
   ]
  },
  {
   "cell_type": "code",
   "execution_count": 13,
   "metadata": {
    "ExecuteTime": {
     "end_time": "2018-04-22T20:47:39.569127Z",
     "start_time": "2018-04-22T20:47:36.831540Z"
    },
    "scrolled": true
   },
   "outputs": [],
   "source": [
    "# Random Forest classifier\n",
    "# estimator = [('clf', \n",
    "#                MultiOutputClassifier(RandomForestClassifier(n_estimators=200, max_features = 15, random_state=0),\n",
    "#              n_jobs=-1))]\n",
    "# pipe = Pipeline(estimator)\n",
    "# pipe = make_pipeline(RandomForestClassifier())\n",
    "# parameter_grid1 = {\"randomforestclassifier__n_estimators\" : [100, 500, 250],\n",
    "#               \"randomforestclassifier__max_features\" : [1, 10, 40],\n",
    "# #              \"randomforestclassifier__max_features\" : [x*10 for x in range(1, 11)],\n",
    "#              \"randomforestclassifier__min_impurity_decrease\": [0.1, 0.3, 0.01]\n",
    "#              }\n",
    "# # pipe\n",
    "clf1 = RandomForestClassifier(n_estimators=200, max_features = 15, random_state=0, n_jobs=-1)\n",
    "# grid1 = GridSearchCV(pipe, param_grid=parameter_grid, cv=3, n_jobs=-1)\n",
    "clf1.fit(x_train, y_train)\n",
    "predictions = clf1.predict(x_test)\n",
    "# print(\"MAP@10 score for RandomForest Classifier is:\", map_n(clf1, x_test, y_test, 10))\n",
    "# print(\"Accuracy for Random Forest:\", accuracy_score(y_test, predictions))\n",
    "# print(\"\\n\",grid.best_params_)"
   ]
  },
  {
   "cell_type": "code",
   "execution_count": 14,
   "metadata": {
    "ExecuteTime": {
     "end_time": "2018-04-22T20:47:39.927327Z",
     "start_time": "2018-04-22T20:47:39.570433Z"
    }
   },
   "outputs": [
    {
     "name": "stdout",
     "output_type": "stream",
     "text": [
      "1600\n",
      "MAP@10 score for RandomForest Classifier is: 0.44077134986225897\n"
     ]
    }
   ],
   "source": [
    "print(\"MAP@10 score for RandomForest Classifier is:\", map_n(clf1, x_test, y_test, 10))\n"
   ]
  },
  {
   "cell_type": "code",
   "execution_count": 15,
   "metadata": {
    "ExecuteTime": {
     "end_time": "2018-04-22T20:47:40.039200Z",
     "start_time": "2018-04-22T20:47:39.929615Z"
    },
    "scrolled": true
   },
   "outputs": [
    {
     "name": "stdout",
     "output_type": "stream",
     "text": [
      "3630\n",
      "Best parameters:  [(0.0293, 'attribute_WheelchairAccessible'), (0.0248, 'attribute_stars'), (0.0241, 'attribute_stars'), (0.0206, 'attribute_stars'), (0.019, 'attribute_stars'), (0.0185, 'attribute_Caters'), (0.018, 'attribute_WiFi'), (0.0179, 'attribute_WiFi'), (0.0178, 'attribute_RestaurantsPriceRange2'), (0.0168, 'attribute_BusinessParking'), (0.0161, 'attribute_is_open'), (0.016, 'attribute_is_open'), (0.0158, 'attribute_Caters'), (0.0155, 'attribute_stars'), (0.0155, 'attribute_GoodForKids'), (0.0155, 'attribute_BikeParking'), (0.0148, 'attribute_RestaurantsPriceRange2'), (0.0138, 'attribute_categories'), (0.0132, 'attribute_RestaurantsCounterService'), (0.0131, 'attribute_NoiseLevel'), (0.013, 'attribute_GoodForKids'), (0.0127, 'attribute_HasTV'), (0.0126, 'attribute_GoodForMeal'), (0.0123, 'attribute_GoodForMeal'), (0.0121, 'attribute_HasTV'), (0.012, 'attribute_Alcohol'), (0.0119, 'attribute_OutdoorSeating'), (0.0118, 'attribute_DogsAllowed'), (0.0118, 'attribute_ByAppointmentOnly'), (0.0118, 'attribute_BusinessParking'), (0.0113, 'attribute_BikeParking'), (0.011, 'attribute_stars'), (0.0108, 'attribute_BusinessAcceptsBitcoin'), (0.0106, 'attribute_RestaurantsTakeOut'), (0.0105, 'attribute_BusinessAcceptsCreditCards'), (0.0101, 'attribute_categories'), (0.0101, 'attribute_NoiseLevel'), (0.01, 'attribute_stars'), (0.0098, 'attribute_categories'), (0.0097, 'attribute_RestaurantsReservations'), (0.0097, 'attribute_Alcohol'), (0.0096, 'attribute_categories'), (0.0095, 'attribute_Ambience'), (0.0093, 'attribute_BusinessParking'), (0.0089, 'attribute_RestaurantsCounterService'), (0.0089, 'attribute_Corkage'), (0.0087, 'attribute_categories'), (0.0085, 'attribute_Corkage'), (0.0085, 'attribute_Alcohol'), (0.0083, 'attribute_categories'), (0.008, 'attribute_RestaurantsReservations'), (0.008, 'attribute_OutdoorSeating'), (0.0079, 'attribute_RestaurantsGoodForGroups'), (0.0078, 'attribute_GoodForMeal'), (0.0076, 'attribute_RestaurantsTakeOut'), (0.0076, 'attribute_RestaurantsDelivery'), (0.0075, 'attribute_categories'), (0.0075, 'attribute_categories'), (0.0072, 'attribute_categories'), (0.0072, 'attribute_DogsAllowed'), (0.0068, 'attribute_DriveThru'), (0.0067, 'attribute_GoodForMeal'), (0.0066, 'attribute_categories'), (0.0064, 'attribute_WheelchairAccessible'), (0.0062, 'attribute_categories'), (0.0062, 'attribute_categories'), (0.0061, 'attribute_categories'), (0.006, 'attribute_categories'), (0.0059, 'attribute_GoodForMeal'), (0.0057, 'attribute_RestaurantsGoodForGroups'), (0.0054, 'attribute_RestaurantsPriceRange2'), (0.0054, 'attribute_ByAppointmentOnly'), (0.0052, 'attribute_DriveThru'), (0.0049, 'attribute_RestaurantsDelivery'), (0.0048, 'attribute_categories'), (0.0048, 'attribute_RestaurantsAttire'), (0.0047, 'attribute_stars'), (0.0047, 'attribute_categories'), (0.0047, 'attribute_GoodForMeal'), (0.0046, 'attribute_BusinessAcceptsCreditCards'), (0.0044, 'attribute_categories'), (0.0042, 'attribute_categories'), (0.0042, 'attribute_NoiseLevel'), (0.004, 'attribute_categories'), (0.0039, 'attribute_BusinessParking'), (0.0038, 'attribute_categories'), (0.0035, 'attribute_categories'), (0.0034, 'attribute_categories'), (0.0034, 'attribute_BusinessAcceptsBitcoin'), (0.0034, 'attribute_BYOBCorkage'), (0.0032, 'attribute_Ambience'), (0.0032, 'attribute_AcceptsInsurance'), (0.003, 'attribute_RestaurantsTableService'), (0.0028, 'attribute_NoiseLevel'), (0.0027, 'attribute_HappyHour'), (0.0026, 'attribute_categories'), (0.0026, 'attribute_BestNights'), (0.0026, 'attribute_BYOB'), (0.0025, 'attribute_CoatCheck'), (0.0025, 'attribute_BestNights'), (0.0024, 'attribute_Smoking'), (0.0024, 'attribute_Smoking'), (0.0024, 'attribute_GoodForDancing'), (0.0024, 'attribute_Ambience'), (0.0023, 'attribute_categories'), (0.0023, 'attribute_WiFi'), (0.0023, 'attribute_Smoking'), (0.0023, 'attribute_HappyHour'), (0.0022, 'attribute_BestNights'), (0.0022, 'attribute_BYOBCorkage'), (0.0022, 'attribute_Ambience'), (0.0021, 'attribute_stars'), (0.0021, 'attribute_categories'), (0.002, 'attribute_RestaurantsPriceRange2'), (0.002, 'attribute_BestNights'), (0.002, 'attribute_Ambience'), (0.0019, 'attribute_BestNights'), (0.0018, 'attribute_Music'), (0.0017, 'attribute_categories'), (0.0017, 'attribute_GoodForDancing'), (0.0016, 'attribute_RestaurantsTableService'), (0.0016, 'attribute_BestNights'), (0.0016, 'attribute_AcceptsInsurance'), (0.0015, 'attribute_Music'), (0.0015, 'attribute_HairSpecializesIn'), (0.0014, 'attribute_Music'), (0.0014, 'attribute_Ambience'), (0.0013, 'attribute_Open24Hours'), (0.0013, 'attribute_HairSpecializesIn'), (0.0012, 'attribute_categories'), (0.0012, 'attribute_Music'), (0.0011, 'attribute_BusinessParking'), (0.0011, 'attribute_Ambience'), (0.001, 'attribute_RestaurantsAttire'), (0.001, 'attribute_BestNights'), (0.0009, 'attribute_Ambience'), (0.0008, 'attribute_CoatCheck'), (0.0008, 'attribute_BYOBCorkage'), (0.0007, 'attribute_Music'), (0.0007, 'attribute_DietaryRestrictions'), (0.0007, 'attribute_DietaryRestrictions'), (0.0007, 'attribute_AgesAllowed'), (0.0006, 'attribute_Music'), (0.0006, 'attribute_HairSpecializesIn'), (0.0006, 'attribute_HairSpecializesIn'), (0.0005, 'attribute_DietaryRestrictions'), (0.0005, 'attribute_DietaryRestrictions'), (0.0005, 'attribute_Ambience'), (0.0004, 'attribute_Music'), (0.0003, 'attribute_HairSpecializesIn'), (0.0003, 'attribute_DietaryRestrictions'), (0.0003, 'attribute_BYOB'), (0.0002, 'attribute_RestaurantsAttire'), (0.0002, 'attribute_HairSpecializesIn'), (0.0002, 'attribute_DietaryRestrictions'), (0.0002, 'attribute_AgesAllowed'), (0.0001, 'attribute_Open24Hours'), (0.0001, 'attribute_HairSpecializesIn'), (0.0001, 'attribute_HairSpecializesIn'), (0.0001, 'attribute_DietaryRestrictions'), (0.0001, 'attribute_AgesAllowed')]\n"
     ]
    }
   ],
   "source": [
    "# a = [x*10 for x in range(1, 11)]\n",
    "print(y_test.size)\n",
    "# print(map_n(grid2, x_test, y_test, 10))\n",
    "# print(\"\\n\",clf1.best_params_)\n",
    "# grid2\n",
    "print(\"Best parameters: \", sorted(zip(map(lambda x: round(x, 4), clf1.feature_importances_), featureNames), \n",
    "             reverse=True))\n"
   ]
  },
  {
   "cell_type": "code",
   "execution_count": 16,
   "metadata": {
    "ExecuteTime": {
     "end_time": "2018-04-22T20:49:08.480831Z",
     "start_time": "2018-04-22T20:47:40.040536Z"
    }
   },
   "outputs": [
    {
     "name": "stdout",
     "output_type": "stream",
     "text": [
      "1826\n",
      "MAP@10 score for Xtreme Gradient Boosting Classifier is: 0.503030303030303\n"
     ]
    }
   ],
   "source": [
    "# clf2 = XGBClassifier(max_depth=10, n_jobs = -1)\n",
    "\n",
    "clf2 = XGBClassifier(n_estimators = 170, min_child_weight = 0.01, n_jobs = -1)\n",
    "# parameter_grid2 = {\"xgbclassifier__n_estimators\" : [170, 120],\n",
    "# #               \"xgbclassifier__max_depth\" : [3, 5, 10],\n",
    "# #              \"randomforestclassifier__max_features\" : [x*10 for x in range(1, 11)],\n",
    "#              \"xgbclassifier__min_child_weight\": [0.01, 0.03]\n",
    "#              }\n",
    "# # pipe\n",
    "# # clf1 = RandomForestClassifier(n_estimators=200, max_features = 15, random_state=0)\n",
    "# grid2 = GridSearchCV(clf2, param_grid=parameter_grid2, cv=3, n_jobs=-1)\n",
    "clf2.fit(x_train, y_train)\n",
    "print(\"MAP@10 score for Xtreme Gradient Boosting Classifier is:\", map_n(clf2, x_test, y_test, 10))\n",
    "# print(\"Best parameters: {}\".format(pipe.feature_importances_))\n",
    "\n",
    "# print(\"Best features: \", sorted(zip(map(lambda x: round(x, 4), clf2.feature_importances_), featureNames), \n",
    "#              reverse=True))\n",
    "\n",
    "# print(\"\\nTime elapsed in Grid Search:\", str(datetime.now() - startTime3))\n",
    "# print(grid.best_params_)\n",
    "\n",
    "# predicted3 = pipe.predict(x_test)\n",
    "# pipe = make_pipeline(PreProcessing(),\n",
    "#                     RandomForestClassifier())\n",
    "\n",
    "# classifier3.fit(x_train, y_train)\n",
    "# predicted3 = classifier3.predict(x_test)\n",
    "# print(\"\\nTime elapsed in Random Forest:\", str(datetime.now() - startTime4))\n",
    "# print(\"Accuracy for Random Forest:\", accuracy_score(y_test, predicted3))\n",
    "\n",
    "# print(\"F1 for Random Forest:\", f1_score(predicted3, y_test, average='micro'))"
   ]
  },
  {
   "cell_type": "code",
   "execution_count": 17,
   "metadata": {
    "ExecuteTime": {
     "end_time": "2018-04-22T20:49:08.628176Z",
     "start_time": "2018-04-22T20:49:08.482694Z"
    }
   },
   "outputs": [
    {
     "name": "stdout",
     "output_type": "stream",
     "text": [
      "Best features:  [(0.0305, 'attribute_BusinessParking'), (0.0181, 'attribute_BusinessParking'), (0.0168, 'attribute_BusinessParking'), (0.0158, 'attribute_BikeParking'), (0.0155, 'attribute_categories'), (0.0144, 'attribute_Smoking'), (0.0142, 'attribute_OutdoorSeating'), (0.0134, 'attribute_RestaurantsPriceRange2'), (0.0134, 'attribute_Alcohol'), (0.0128, 'attribute_is_open'), (0.0126, 'attribute_WheelchairAccessible'), (0.0124, 'attribute_WiFi'), (0.0123, 'attribute_stars'), (0.0122, 'attribute_stars'), (0.012, 'attribute_GoodForMeal'), (0.012, 'attribute_BikeParking'), (0.0117, 'attribute_GoodForKids'), (0.0114, 'attribute_stars'), (0.0114, 'attribute_categories'), (0.0111, 'attribute_stars'), (0.011, 'attribute_categories'), (0.0109, 'attribute_BusinessAcceptsCreditCards'), (0.0106, 'attribute_BusinessParking'), (0.0103, 'attribute_Smoking'), (0.0102, 'attribute_GoodForMeal'), (0.0102, 'attribute_DogsAllowed'), (0.01, 'attribute_NoiseLevel'), (0.0098, 'attribute_categories'), (0.0096, 'attribute_RestaurantsReservations'), (0.0096, 'attribute_DogsAllowed'), (0.0092, 'attribute_GoodForMeal'), (0.0092, 'attribute_GoodForKids'), (0.0091, 'attribute_categories'), (0.0091, 'attribute_RestaurantsDelivery'), (0.009, 'attribute_stars'), (0.0089, 'attribute_OutdoorSeating'), (0.0088, 'attribute_categories'), (0.0087, 'attribute_categories'), (0.0085, 'attribute_BusinessAcceptsBitcoin'), (0.0084, 'attribute_RestaurantsPriceRange2'), (0.0084, 'attribute_BYOBCorkage'), (0.0083, 'attribute_RestaurantsPriceRange2'), (0.0083, 'attribute_Caters'), (0.0082, 'attribute_Alcohol'), (0.0081, 'attribute_WiFi'), (0.0081, 'attribute_DriveThru'), (0.0081, 'attribute_ByAppointmentOnly'), (0.0079, 'attribute_Caters'), (0.0078, 'attribute_Ambience'), (0.0077, 'attribute_stars'), (0.0077, 'attribute_Ambience'), (0.0076, 'attribute_stars'), (0.0074, 'attribute_categories'), (0.0073, 'attribute_categories'), (0.0073, 'attribute_Corkage'), (0.0072, 'attribute_RestaurantsGoodForGroups'), (0.0071, 'attribute_RestaurantsCounterService'), (0.007, 'attribute_GoodForMeal'), (0.0069, 'attribute_RestaurantsCounterService'), (0.0069, 'attribute_HasTV'), (0.0067, 'attribute_HasTV'), (0.0065, 'attribute_Ambience'), (0.0064, 'attribute_categories'), (0.0064, 'attribute_categories'), (0.0064, 'attribute_GoodForMeal'), (0.0064, 'attribute_Alcohol'), (0.0063, 'attribute_stars'), (0.0063, 'attribute_WheelchairAccessible'), (0.0062, 'attribute_GoodForMeal'), (0.0061, 'attribute_categories'), (0.0061, 'attribute_ByAppointmentOnly'), (0.0061, 'attribute_Ambience'), (0.006, 'attribute_RestaurantsGoodForGroups'), (0.006, 'attribute_RestaurantsDelivery'), (0.006, 'attribute_NoiseLevel'), (0.006, 'attribute_BestNights'), (0.0059, 'attribute_BusinessAcceptsCreditCards'), (0.0058, 'attribute_categories'), (0.0058, 'attribute_categories'), (0.0058, 'attribute_Corkage'), (0.0057, 'attribute_categories'), (0.0057, 'attribute_GoodForDancing'), (0.0057, 'attribute_Ambience'), (0.0056, 'attribute_categories'), (0.0056, 'attribute_categories'), (0.0056, 'attribute_categories'), (0.0056, 'attribute_categories'), (0.0056, 'attribute_NoiseLevel'), (0.0055, 'attribute_HappyHour'), (0.0054, 'attribute_NoiseLevel'), (0.0053, 'attribute_RestaurantsTakeOut'), (0.0053, 'attribute_Music'), (0.0051, 'attribute_RestaurantsTakeOut'), (0.0051, 'attribute_RestaurantsReservations'), (0.0049, 'attribute_AcceptsInsurance'), (0.0048, 'attribute_BYOBCorkage'), (0.0046, 'attribute_categories'), (0.0046, 'attribute_WiFi'), (0.0045, 'attribute_stars'), (0.0044, 'attribute_BestNights'), (0.0044, 'attribute_BestNights'), (0.0043, 'attribute_categories'), (0.0043, 'attribute_BYOB'), (0.0042, 'attribute_categories'), (0.0042, 'attribute_DriveThru'), (0.0039, 'attribute_categories'), (0.0039, 'attribute_BusinessAcceptsBitcoin'), (0.0039, 'attribute_BestNights'), (0.0035, 'attribute_Smoking'), (0.0035, 'attribute_RestaurantsTableService'), (0.0034, 'attribute_Music'), (0.0034, 'attribute_BestNights'), (0.0033, 'attribute_Open24Hours'), (0.0033, 'attribute_Music'), (0.0032, 'attribute_HairSpecializesIn'), (0.0032, 'attribute_BusinessParking'), (0.0031, 'attribute_categories'), (0.0031, 'attribute_BestNights'), (0.0029, 'attribute_Ambience'), (0.0027, 'attribute_Music'), (0.0027, 'attribute_BestNights'), (0.0026, 'attribute_RestaurantsTableService'), (0.0026, 'attribute_RestaurantsPriceRange2'), (0.0026, 'attribute_Music'), (0.0026, 'attribute_CoatCheck'), (0.0026, 'attribute_Ambience'), (0.0026, 'attribute_AgesAllowed'), (0.0026, 'attribute_AcceptsInsurance'), (0.0025, 'attribute_categories'), (0.0025, 'attribute_Music'), (0.0024, 'attribute_categories'), (0.0023, 'attribute_categories'), (0.0023, 'attribute_HairSpecializesIn'), (0.0022, 'attribute_HairSpecializesIn'), (0.0021, 'attribute_HappyHour'), (0.0021, 'attribute_GoodForDancing'), (0.0021, 'attribute_BYOB'), (0.0019, 'attribute_RestaurantsAttire'), (0.0019, 'attribute_DietaryRestrictions'), (0.0019, 'attribute_CoatCheck'), (0.0018, 'attribute_Open24Hours'), (0.0018, 'attribute_HairSpecializesIn'), (0.0018, 'attribute_Ambience'), (0.0017, 'attribute_DietaryRestrictions'), (0.0016, 'attribute_RestaurantsAttire'), (0.0016, 'attribute_HairSpecializesIn'), (0.0015, 'attribute_Music'), (0.0015, 'attribute_BYOBCorkage'), (0.0014, 'attribute_DietaryRestrictions'), (0.0014, 'attribute_DietaryRestrictions'), (0.0014, 'attribute_AgesAllowed'), (0.0012, 'attribute_DietaryRestrictions'), (0.0012, 'attribute_DietaryRestrictions'), (0.0011, 'attribute_RestaurantsAttire'), (0.001, 'attribute_AgesAllowed'), (0.0009, 'attribute_DietaryRestrictions'), (0.0006, 'attribute_HairSpecializesIn'), (0.0005, 'attribute_HairSpecializesIn'), (0.0005, 'attribute_Ambience'), (0.0004, 'attribute_HairSpecializesIn'), (0.0, 'attribute_is_open')]\n"
     ]
    }
   ],
   "source": [
    "print(\"Best features: \", sorted(zip(map(lambda x: round(x, 4), clf2.feature_importances_), featureNames), \n",
    "             reverse=True))\n"
   ]
  },
  {
   "cell_type": "code",
   "execution_count": 18,
   "metadata": {
    "ExecuteTime": {
     "end_time": "2018-04-22T20:49:08.642589Z",
     "start_time": "2018-04-22T20:49:08.629741Z"
    }
   },
   "outputs": [
    {
     "name": "stdout",
     "output_type": "stream",
     "text": [
      "[21 36 33 48 17 32 37 45 14 46]\n",
      "00000000000000000100000000000000000000000000000000\n",
      "['85224', '89147', '85282', '89139', '85004', '89101', '85283', '85254', '89145', '89146']\n",
      "{'attribute_WiFi': ['free', 'paid', 'no'], 'attribute_DogsAllowed': [True, False], 'attribute_is_open': [1, 0], 'attribute_RestaurantsTableService': [False, True], 'attribute_AcceptsInsurance': [True, False], 'attribute_ByAppointmentOnly': [False, True], 'attribute_HasTV': [True, False], 'attribute_GoodForKids': [True, False], 'attribute_Corkage': [True, False], 'attribute_RestaurantsGoodForGroups': [True, False], 'attribute_AgesAllowed': ['21plus', 'allages', '18plus'], 'attribute_CoatCheck': [False, True], 'attribute_RestaurantsTakeOut': [True, False], 'attribute_NoiseLevel': ['loud', 'average', 'very_loud', 'quiet'], 'attribute_RestaurantsPriceRange2': [1, 2, 3, 4], 'attribute_BYOB': [False, True], 'attribute_GoodForDancing': [False, True], 'attribute_WheelchairAccessible': [True, False], 'attribute_BusinessAcceptsBitcoin': [False, True], 'attribute_Open24Hours': [False, True], 'attribute_BusinessAcceptsCreditCards': [True, False], 'attribute_RestaurantsAttire': ['casual', 'dressy', 'formal'], 'attribute_postal_code': ['85022', '89119', '85016', '89103', '85032', '85258', '85013', '89121', '89014', '89117', '89104', '89123', '85027', '85281', '89145', '85260', '89109', '85004', '85018', '85226', '85044', '85224', '89102', '85034', '85255', '85008', '89128', '89130', '85251', '89169', '89118', '89052', '89101', '85282', '85301', '85308', '89147', '85283', '85257', '89135', '89108', '85020', '89113', '89148', '85284', '85254', '89146', '85225', '89139', '89015'], 'attribute_stars': [1.0, 3.0, 4.0, 2.5, 1.5, 5.0, 3.5, 2.0, 4.5], 'attribute_BikeParking': [True, False], 'attribute_RestaurantsCounterService': [False, True], 'attribute_Alcohol': ['none', 'full_bar', 'beer_and_wine'], 'attribute_DriveThru': [True, False], 'attribute_RestaurantsReservations': [False, True], 'attribute_OutdoorSeating': [False, True], 'attribute_Caters': [False, True], 'attribute_RestaurantsDelivery': [False, True], 'attribute_HappyHour': [True, False], 'attribute_BYOBCorkage': ['no', 'yes_free', 'yes_corkage'], 'attribute_Smoking': ['no', 'outdoor', 'yes']}\n"
     ]
    }
   ],
   "source": [
    "prob = clf2.predict_proba(x_test[:1])\n",
    "best_n = np.argsort(-prob, axis = 1)\n",
    "print(best_n[0][:10])\n",
    "print(y_test[0])\n",
    "with open('attributeLists.json', 'r') as f:\n",
    "    attributeLists = json.load(f)\n",
    "n_top = 10\n",
    "topZips = []\n",
    "for index in best_n[0][:n_top]:\n",
    "    topZips.append(attributeLists['attribute_postal_code'][index])\n",
    "print(topZips)\n",
    "print(attributeLists)"
   ]
  },
  {
   "cell_type": "code",
   "execution_count": 19,
   "metadata": {
    "ExecuteTime": {
     "end_time": "2018-04-22T20:49:08.739898Z",
     "start_time": "2018-04-22T20:49:08.644354Z"
    }
   },
   "outputs": [
    {
     "ename": "NameError",
     "evalue": "name 'predicted3' is not defined",
     "output_type": "error",
     "traceback": [
      "\u001b[0;31m---------------------------------------------------------------------------\u001b[0m",
      "\u001b[0;31mNameError\u001b[0m                                 Traceback (most recent call last)",
      "\u001b[0;32m<ipython-input-19-5828628ff3fa>\u001b[0m in \u001b[0;36m<module>\u001b[0;34m()\u001b[0m\n\u001b[0;32m----> 1\u001b[0;31m \u001b[0mprint\u001b[0m\u001b[0;34m(\u001b[0m\u001b[0;34m(\u001b[0m\u001b[0mpredicted3\u001b[0m\u001b[0;34m)\u001b[0m\u001b[0;34m[\u001b[0m\u001b[0;34m:\u001b[0m\u001b[0;36m10\u001b[0m\u001b[0;34m]\u001b[0m\u001b[0;34m)\u001b[0m\u001b[0;34m\u001b[0m\u001b[0m\n\u001b[0m\u001b[1;32m      2\u001b[0m \u001b[0mprint\u001b[0m\u001b[0;34m(\u001b[0m\u001b[0;34m(\u001b[0m\u001b[0my_test\u001b[0m\u001b[0;34m)\u001b[0m\u001b[0;34m[\u001b[0m\u001b[0;34m:\u001b[0m\u001b[0;36m10\u001b[0m\u001b[0;34m]\u001b[0m\u001b[0;34m)\u001b[0m\u001b[0;34m\u001b[0m\u001b[0m\n\u001b[1;32m      3\u001b[0m \u001b[0;34m\u001b[0m\u001b[0m\n\u001b[1;32m      4\u001b[0m \u001b[0mprint\u001b[0m\u001b[0;34m(\u001b[0m\u001b[0mpredicted3\u001b[0m\u001b[0;34m.\u001b[0m\u001b[0msize\u001b[0m\u001b[0;34m)\u001b[0m\u001b[0;34m\u001b[0m\u001b[0m\n\u001b[1;32m      5\u001b[0m \u001b[0mprint\u001b[0m\u001b[0;34m(\u001b[0m\u001b[0my_test\u001b[0m\u001b[0;34m.\u001b[0m\u001b[0msize\u001b[0m\u001b[0;34m)\u001b[0m\u001b[0;34m\u001b[0m\u001b[0m\n",
      "\u001b[0;31mNameError\u001b[0m: name 'predicted3' is not defined"
     ]
    }
   ],
   "source": [
    "print((predicted3)[:10])\n",
    "print((y_test)[:10])\n",
    "\n",
    "print(predicted3.size)\n",
    "print(y_test.size)\n",
    "\n",
    "print(pipe.classes_)\n",
    "\n",
    "main = pipe.classes_\n",
    "\n",
    "probs = pipe.predict_proba(x_test)\n",
    "best_n = np.argsort(probs)\n",
    "arr = best_n[10][-5:]"
   ]
  },
  {
   "cell_type": "code",
   "execution_count": null,
   "metadata": {
    "ExecuteTime": {
     "end_time": "2018-04-22T20:49:08.740513Z",
     "start_time": "2018-04-22T20:47:26.786Z"
    }
   },
   "outputs": [],
   "source": [
    "# import pickle\n",
    "import xgboost as xgb\n",
    "filename = \"Model_v0.3.pkl\"\n",
    "\n",
    "# with open('../Models/'+filename, 'wb') as file:\n",
    "#     pickle.dump(clf2, file)\n",
    "\n",
    "clf2.save_model('../Models/'+filename)"
   ]
  },
  {
   "cell_type": "code",
   "execution_count": null,
   "metadata": {
    "ExecuteTime": {
     "end_time": "2018-04-22T20:49:08.741292Z",
     "start_time": "2018-04-22T20:47:26.786Z"
    }
   },
   "outputs": [],
   "source": [
    "with open('./attributeLists.json', 'r') as f:\n",
    "    attributeLists = json.load(f)\n",
    "\n",
    "for encodedZip in y_test[1:10]:\n",
    "    i = 0\n",
    "    for bit in encodedZip:\n",
    "        if bit == 1:\n",
    "            print(attributeLists['attribute_postal_code'][i])\n",
    "        i += 1"
   ]
  },
  {
   "cell_type": "code",
   "execution_count": null,
   "metadata": {
    "ExecuteTime": {
     "end_time": "2018-04-22T20:49:08.742041Z",
     "start_time": "2018-04-22T20:47:26.788Z"
    }
   },
   "outputs": [],
   "source": [
    "classificationVectors[0]\n",
    "binnis = []\n",
    "with open('business.json', 'r') as f:\n",
    "    for lines in f:\n",
    "        binnis.append(json.loads(lines))"
   ]
  },
  {
   "cell_type": "code",
   "execution_count": null,
   "metadata": {
    "ExecuteTime": {
     "end_time": "2018-04-22T20:49:08.742871Z",
     "start_time": "2018-04-22T20:47:26.790Z"
    },
    "scrolled": true
   },
   "outputs": [],
   "source": [
    "from sklearn.datasets import make_classification\n",
    "from sklearn.multioutput import MultiOutputClassifier\n",
    "from sklearn.ensemble import RandomForestClassifier\n",
    "from sklearn.utils import shuffle\n",
    "import numpy as np\n",
    "X, y1 = make_classification(n_samples=10, n_features=100, n_informative=30, n_classes=3, random_state=1)\n",
    "X1, y1 = make_classification(n_samples=10, n_features=100, n_informative=30, n_classes=3)\n",
    "y2 = shuffle(y1, random_state=1)\n",
    "y3 = shuffle(y1, random_state=2)\n",
    "Y = np.vstack((y1, y2, y3)).T\n",
    "Z = np.array([[1, 0, 0],\n",
    "       [0, 0, 1],\n",
    "       [1, 0, 0],\n",
    "       [0, 1, 0],\n",
    "       [1, 0, 0],\n",
    "       [0, 0, 1],\n",
    "       [0, 0, 1],\n",
    "       [1, 0, 0],\n",
    "       [1, 0, 0],\n",
    "       [0, 1, 0]])\n",
    "n_samples, n_features = X.shape # 10,100\n",
    "n_outputs = Y.shape[1] # 3\n",
    "n_classes = 3\n",
    "forest = RandomForestClassifier(n_estimators=100, random_state=1)\n",
    "multi_target_forest = MultiOutputClassifier(forest, n_jobs=-1)\n",
    "p = multi_target_forest.fit(X, Z).predict(X1)\n",
    "print(p)\n",
    "# print(\"Accuracy for Random Forest:\", accuracy_score(Y, p))"
   ]
  },
  {
   "cell_type": "code",
   "execution_count": null,
   "metadata": {
    "ExecuteTime": {
     "end_time": "2018-04-22T20:49:08.743619Z",
     "start_time": "2018-04-22T20:47:26.792Z"
    },
    "scrolled": true
   },
   "outputs": [],
   "source": [
    "print(y1)\n",
    "print(y2)\n",
    "print(y3)\n",
    "print(Y)\n",
    "Y"
   ]
  },
  {
   "cell_type": "code",
   "execution_count": null,
   "metadata": {
    "ExecuteTime": {
     "end_time": "2018-04-22T20:49:08.744330Z",
     "start_time": "2018-04-22T20:47:26.792Z"
    }
   },
   "outputs": [],
   "source": [
    "binnis[0]"
   ]
  },
  {
   "cell_type": "code",
   "execution_count": null,
   "metadata": {
    "ExecuteTime": {
     "end_time": "2018-04-22T20:49:08.745006Z",
     "start_time": "2018-04-22T20:47:26.794Z"
    }
   },
   "outputs": [],
   "source": [
    "with open('/media/gu38/Common/DIVA/FinalProject/yelp/dummy_data.json', 'r') as f:\n",
    "    dummyList = json.load(f)\n",
    "print(dummyList[0])\n",
    "dummyList2 = [\n",
    "  \"85282\", \n",
    "  \"89147\", \n",
    "  \"85224\", \n",
    "  \"85226\", \n",
    "  \"89139\", \n",
    "  \"85004\", \n",
    "  \"89130\", \n",
    "  \"89146\", \n",
    "  \"85301\", \n",
    "  \"85251\"\n",
    "]\n"
   ]
  },
  {
   "cell_type": "code",
   "execution_count": null,
   "metadata": {
    "ExecuteTime": {
     "end_time": "2018-04-22T20:49:08.745671Z",
     "start_time": "2018-04-22T20:47:26.796Z"
    }
   },
   "outputs": [],
   "source": [
    "print(attribufeatures[1][10:])"
   ]
  },
  {
   "cell_type": "code",
   "execution_count": null,
   "metadata": {
    "ExecuteTime": {
     "end_time": "2018-04-22T20:49:08.746403Z",
     "start_time": "2018-04-22T20:47:26.796Z"
    }
   },
   "outputs": [],
   "source": [
    "d1={1:2,3:4}\n",
    "d2={5:6,7:9}\n",
    "d3={10:8,13:22}\n",
    "d4 = dict(d1.items() + d2.items())\n",
    "print(d4)"
   ]
  },
  {
   "cell_type": "code",
   "execution_count": null,
   "metadata": {},
   "outputs": [],
   "source": []
  }
 ],
 "metadata": {
  "kernelspec": {
   "display_name": "Python 3",
   "language": "python",
   "name": "python3"
  },
  "language_info": {
   "codemirror_mode": {
    "name": "ipython",
    "version": 3
   },
   "file_extension": ".py",
   "mimetype": "text/x-python",
   "name": "python",
   "nbconvert_exporter": "python",
   "pygments_lexer": "ipython3",
   "version": "3.5.2"
  }
 },
 "nbformat": 4,
 "nbformat_minor": 2
}
